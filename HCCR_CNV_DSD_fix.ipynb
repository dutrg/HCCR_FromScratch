{
  "cells": [
    {
      "cell_type": "markdown",
      "metadata": {
        "id": "xbhnOplZRhsu"
      },
      "source": [
        "# Dependencies"
      ]
    },
    {
      "cell_type": "code",
      "execution_count": 2,
      "metadata": {
        "id": "PsX6NXCiVhB9"
      },
      "outputs": [],
      "source": [
        "import os\n",
        "import numpy as np\n",
        "import pandas as pd\n",
        "from pathlib import Path\n",
        "import matplotlib.pyplot as plt\n",
        "import cv2\n",
        "from keras.preprocessing import image\n",
        "import warnings\n",
        "from PIL import Image\n",
        "\n",
        "#Torch\n",
        "\n",
        "import torch\n",
        "import torchvision\n",
        "from torch.utils.data import Dataset, DataLoader, random_split\n",
        "from torchvision import transforms, utils\n",
        "from torchvision.transforms import ToTensor\n",
        "from torchvision.io import read_image\n",
        "#Torch model\n",
        "import torch.nn as nn\n",
        "from torchvision import models\n",
        "import torch.nn.functional as F\n",
        "import torch.optim as optim\n",
        "import time\n",
        "\n",
        "import gdown\n",
        "import zipfile\n",
        "from tqdm import tqdm"
      ]
    },
    {
      "cell_type": "code",
      "execution_count": 3,
      "metadata": {
        "id": "RRMuEDT8T-wK"
      },
      "outputs": [],
      "source": [
        "warnings.filterwarnings(\"ignore\")"
      ]
    },
    {
      "cell_type": "code",
      "execution_count": 4,
      "metadata": {
        "colab": {
          "base_uri": "https://localhost:8080/"
        },
        "id": "Icvy3SRKT-wK",
        "outputId": "53e7e198-4e22-45df-e336-8a96a6470ab9"
      },
      "outputs": [
        {
          "name": "stdout",
          "output_type": "stream",
          "text": [
            "Wed May  1 13:17:34 2024       \n",
            "+-----------------------------------------------------------------------------+\n",
            "| NVIDIA-SMI 522.06       Driver Version: 522.06       CUDA Version: 11.8     |\n",
            "|-------------------------------+----------------------+----------------------+\n",
            "| GPU  Name            TCC/WDDM | Bus-Id        Disp.A | Volatile Uncorr. ECC |\n",
            "| Fan  Temp  Perf  Pwr:Usage/Cap|         Memory-Usage | GPU-Util  Compute M. |\n",
            "|                               |                      |               MIG M. |\n",
            "|===============================+======================+======================|\n",
            "|   0  NVIDIA GeForce ... WDDM  | 00000000:01:00.0  On |                  N/A |\n",
            "| 35%   40C    P8    10W /  75W |   2695MiB /  4096MiB |     11%      Default |\n",
            "|                               |                      |                  N/A |\n",
            "+-------------------------------+----------------------+----------------------+\n",
            "                                                                               \n",
            "+-----------------------------------------------------------------------------+\n",
            "| Processes:                                                                  |\n",
            "|  GPU   GI   CI        PID   Type   Process name                  GPU Memory |\n",
            "|        ID   ID                                                   Usage      |\n",
            "|=============================================================================|\n",
            "|    0   N/A  N/A      2124    C+G   ...pingTool\\SnippingTool.exe    N/A      |\n",
            "|    0   N/A  N/A      4584    C+G   ...y\\ShellExperienceHost.exe    N/A      |\n",
            "|    0   N/A  N/A      4764    C+G   C:\\Windows\\explorer.exe         N/A      |\n",
            "|    0   N/A  N/A      8988    C+G   ...n1h2txyewy\\SearchHost.exe    N/A      |\n",
            "|    0   N/A  N/A      9028    C+G   ...artMenuExperienceHost.exe    N/A      |\n",
            "|    0   N/A  N/A     11720    C+G   ...Device\\asus_framework.exe    N/A      |\n",
            "|    0   N/A  N/A     12176    C+G   ...e\\PhoneExperienceHost.exe    N/A      |\n",
            "|    0   N/A  N/A     12436    C+G   ...2txyewy\\TextInputHost.exe    N/A      |\n",
            "|    0   N/A  N/A     14436    C+G   ...ge\\Application\\msedge.exe    N/A      |\n",
            "|    0   N/A  N/A     15864      C   ....conda\\envs\\cv\\python.exe    N/A      |\n",
            "|    0   N/A  N/A     16836    C+G   ...icrosoft VS Code\\Code.exe    N/A      |\n",
            "|    0   N/A  N/A     17424    C+G   ...lPanel\\SystemSettings.exe    N/A      |\n",
            "|    0   N/A  N/A     18736      C   ....conda\\envs\\cv\\python.exe    N/A      |\n",
            "+-----------------------------------------------------------------------------+\n"
          ]
        }
      ],
      "source": [
        "!nvidia-smi"
      ]
    },
    {
      "cell_type": "code",
      "execution_count": 5,
      "metadata": {
        "id": "qNw0zqWOjMYD"
      },
      "outputs": [],
      "source": [
        "device = torch.device(\"cuda:0\" if torch.cuda.is_available() else \"cpu\")"
      ]
    },
    {
      "cell_type": "code",
      "execution_count": 6,
      "metadata": {
        "colab": {
          "base_uri": "https://localhost:8080/"
        },
        "id": "R9xh9sRQgWbC",
        "outputId": "f64d9c86-77dd-4645-8d80-23f5f87e74f1"
      },
      "outputs": [
        {
          "data": {
            "text/plain": [
              "device(type='cuda', index=0)"
            ]
          },
          "execution_count": 6,
          "metadata": {},
          "output_type": "execute_result"
        }
      ],
      "source": [
        "device"
      ]
    },
    {
      "cell_type": "markdown",
      "metadata": {
        "id": "pzWlF0xUjaX6"
      },
      "source": [
        "# Data Processing\n",
        "\n"
      ]
    },
    {
      "cell_type": "markdown",
      "metadata": {
        "id": "UjH4Z1pOEZMO"
      },
      "source": [
        "### Upload data to colab"
      ]
    },
    {
      "cell_type": "code",
      "execution_count": 7,
      "metadata": {
        "colab": {
          "base_uri": "https://localhost:8080/"
        },
        "id": "jJQDyCnA94hX",
        "outputId": "84fe03d9-31db-4aa0-d30a-c4c0695885e8"
      },
      "outputs": [
        {
          "name": "stdout",
          "output_type": "stream",
          "text": [
            "File already exists, skipping download.\n"
          ]
        }
      ],
      "source": [
        "if not os.path.exists(\"wb_recognition_dataset.zip\"):\n",
        "    !gdown --id 1PdWkZe8Vt6xdsTj8KeqxhAd5Tmx4pyNh\n",
        "else:\n",
        "    print(\"File already exists, skipping download.\")"
      ]
    },
    {
      "cell_type": "code",
      "execution_count": 8,
      "metadata": {
        "id": "PIsA3vrI4pGa"
      },
      "outputs": [],
      "source": [
        "if not os.path.exists(\"wb_recognition_dataset\"):\n",
        "    with zipfile.ZipFile(\"wb_recognition_dataset.zip\", \"r\") as zip_ref:\n",
        "        zip_ref.extractall(\"wb_recognition_dataset\")"
      ]
    },
    {
      "cell_type": "code",
      "execution_count": 9,
      "metadata": {
        "id": "3qmeuzbGXSg_"
      },
      "outputs": [],
      "source": [
        "local_dir = 'wb_recognition_dataset'"
      ]
    },
    {
      "cell_type": "code",
      "execution_count": 13,
      "metadata": {
        "id": "pe5nJAS0T-wN"
      },
      "outputs": [],
      "source": [
        "dataset_dir = f'{local_dir}'\n",
        "trainset_dir = f'{dataset_dir}/train'\n",
        "testset_dir = f'{dataset_dir}/val'\n",
        "testset_img = f'{testset_dir}/images'\n",
        "annotations_dir = f'{testset_dir}/labels.csv'"
      ]
    },
    {
      "cell_type": "code",
      "execution_count": 14,
      "metadata": {
        "colab": {
          "base_uri": "https://localhost:8080/"
        },
        "id": "FCIvKn63T-wO",
        "outputId": "909fab17-799c-4e9c-c466-0d5430518810"
      },
      "outputs": [
        {
          "name": "stdout",
          "output_type": "stream",
          "text": [
            "Number of classes in the train dataset: 2130\n",
            "Number of images in the valid dataset: 1392\n"
          ]
        }
      ],
      "source": [
        "print('Number of classes in the train dataset:', len(os.listdir(trainset_dir)))\n",
        "print('Number of images in the valid dataset:', len(os.listdir(testset_img)))"
      ]
    },
    {
      "cell_type": "markdown",
      "metadata": {
        "id": "k2d_B_8_7lwI"
      },
      "source": [
        "### Data Pre-processing"
      ]
    },
    {
      "cell_type": "code",
      "execution_count": 15,
      "metadata": {
        "id": "E-NzPisQN6XQ"
      },
      "outputs": [],
      "source": [
        "transform = transforms.Compose([\n",
        "    transforms.Resize((32, 32)),\n",
        "    transforms.ToTensor(),  # Convert image to tensor\n",
        "])"
      ]
    },
    {
      "cell_type": "code",
      "execution_count": 41,
      "metadata": {
        "id": "JBeWjxoET-wO"
      },
      "outputs": [],
      "source": [
        "# get all the full image dirs in each folder\n",
        "data = [\n",
        "    (os.path.join(trainset_dir, c, f), int(c))\n",
        "    for c in os.listdir(trainset_dir)\n",
        "    for f in os.listdir(os.path.join(trainset_dir, c))\n",
        "]"
      ]
    },
    {
      "cell_type": "code",
      "execution_count": 17,
      "metadata": {
        "colab": {
          "base_uri": "https://localhost:8080/"
        },
        "id": "xdtib0VaT-wO",
        "outputId": "adf439f4-9f0c-4ec4-9918-d0f4ceffed46"
      },
      "outputs": [
        {
          "name": "stdout",
          "output_type": "stream",
          "text": [
            "2138\n"
          ]
        }
      ],
      "source": [
        "classes = [int(c) for c in os.listdir(trainset_dir)]\n",
        "classes.sort()\n",
        "num_classes = classes[-1] # assume that the largest number is the number of classes\n",
        "classes = set(range(num_classes))\n",
        "print(len(classes))"
      ]
    },
    {
      "cell_type": "code",
      "execution_count": 18,
      "metadata": {
        "id": "Hx1rcB0tT-wP"
      },
      "outputs": [],
      "source": [
        "def encoding(df, classes=classes):\n",
        "    # one hot encoding\n",
        "    for i in tqdm(classes):\n",
        "        df[str(i)] = (df['label'] == i).astype(int)\n",
        "    df.drop('label', axis=1, inplace=True)\n",
        "    return df"
      ]
    },
    {
      "cell_type": "code",
      "execution_count": 19,
      "metadata": {
        "colab": {
          "base_uri": "https://localhost:8080/",
          "height": 424
        },
        "id": "8VLdW2fzWlJ0",
        "outputId": "a13261f3-7898-402e-93e1-2c41183ff1fe"
      },
      "outputs": [
        {
          "data": {
            "text/html": [
              "<div>\n",
              "<style scoped>\n",
              "    .dataframe tbody tr th:only-of-type {\n",
              "        vertical-align: middle;\n",
              "    }\n",
              "\n",
              "    .dataframe tbody tr th {\n",
              "        vertical-align: top;\n",
              "    }\n",
              "\n",
              "    .dataframe thead th {\n",
              "        text-align: right;\n",
              "    }\n",
              "</style>\n",
              "<table border=\"1\" class=\"dataframe\">\n",
              "  <thead>\n",
              "    <tr style=\"text-align: right;\">\n",
              "      <th></th>\n",
              "      <th>image</th>\n",
              "      <th>label</th>\n",
              "    </tr>\n",
              "  </thead>\n",
              "  <tbody>\n",
              "    <tr>\n",
              "      <th>0</th>\n",
              "      <td>wb_recognition_dataset/train\\0\\11_0.png</td>\n",
              "      <td>0</td>\n",
              "    </tr>\n",
              "    <tr>\n",
              "      <th>1</th>\n",
              "      <td>wb_recognition_dataset/train\\0\\12_0.png</td>\n",
              "      <td>0</td>\n",
              "    </tr>\n",
              "    <tr>\n",
              "      <th>2</th>\n",
              "      <td>wb_recognition_dataset/train\\0\\16_0.png</td>\n",
              "      <td>0</td>\n",
              "    </tr>\n",
              "    <tr>\n",
              "      <th>3</th>\n",
              "      <td>wb_recognition_dataset/train\\0\\17_0.png</td>\n",
              "      <td>0</td>\n",
              "    </tr>\n",
              "    <tr>\n",
              "      <th>4</th>\n",
              "      <td>wb_recognition_dataset/train\\0\\19_0.png</td>\n",
              "      <td>0</td>\n",
              "    </tr>\n",
              "    <tr>\n",
              "      <th>...</th>\n",
              "      <td>...</td>\n",
              "      <td>...</td>\n",
              "    </tr>\n",
              "    <tr>\n",
              "      <th>56808</th>\n",
              "      <td>wb_recognition_dataset/train\\999\\16_999.png</td>\n",
              "      <td>999</td>\n",
              "    </tr>\n",
              "    <tr>\n",
              "      <th>56809</th>\n",
              "      <td>wb_recognition_dataset/train\\999\\17_999.png</td>\n",
              "      <td>999</td>\n",
              "    </tr>\n",
              "    <tr>\n",
              "      <th>56810</th>\n",
              "      <td>wb_recognition_dataset/train\\999\\35_999.png</td>\n",
              "      <td>999</td>\n",
              "    </tr>\n",
              "    <tr>\n",
              "      <th>56811</th>\n",
              "      <td>wb_recognition_dataset/train\\999\\46_999.png</td>\n",
              "      <td>999</td>\n",
              "    </tr>\n",
              "    <tr>\n",
              "      <th>56812</th>\n",
              "      <td>wb_recognition_dataset/train\\999\\nlvnpf-0137-0...</td>\n",
              "      <td>999</td>\n",
              "    </tr>\n",
              "  </tbody>\n",
              "</table>\n",
              "<p>56813 rows × 2 columns</p>\n",
              "</div>"
            ],
            "text/plain": [
              "                                                   image  label\n",
              "0                wb_recognition_dataset/train\\0\\11_0.png      0\n",
              "1                wb_recognition_dataset/train\\0\\12_0.png      0\n",
              "2                wb_recognition_dataset/train\\0\\16_0.png      0\n",
              "3                wb_recognition_dataset/train\\0\\17_0.png      0\n",
              "4                wb_recognition_dataset/train\\0\\19_0.png      0\n",
              "...                                                  ...    ...\n",
              "56808        wb_recognition_dataset/train\\999\\16_999.png    999\n",
              "56809        wb_recognition_dataset/train\\999\\17_999.png    999\n",
              "56810        wb_recognition_dataset/train\\999\\35_999.png    999\n",
              "56811        wb_recognition_dataset/train\\999\\46_999.png    999\n",
              "56812  wb_recognition_dataset/train\\999\\nlvnpf-0137-0...    999\n",
              "\n",
              "[56813 rows x 2 columns]"
            ]
          },
          "execution_count": 19,
          "metadata": {},
          "output_type": "execute_result"
        }
      ],
      "source": [
        "\n",
        "main_df = pd.DataFrame(data, columns = ['image', 'label'])\n",
        "main_df"
      ]
    },
    {
      "cell_type": "code",
      "execution_count": 20,
      "metadata": {
        "colab": {
          "base_uri": "https://localhost:8080/",
          "height": 461
        },
        "id": "mOteXbXfT-wP",
        "outputId": "a510fe49-d005-4809-f5d1-7378ad843dcc"
      },
      "outputs": [
        {
          "name": "stderr",
          "output_type": "stream",
          "text": [
            "  0%|          | 0/2138 [00:00<?, ?it/s]"
          ]
        },
        {
          "name": "stderr",
          "output_type": "stream",
          "text": [
            "100%|██████████| 2138/2138 [00:01<00:00, 1486.32it/s]\n"
          ]
        },
        {
          "data": {
            "text/html": [
              "<div>\n",
              "<style scoped>\n",
              "    .dataframe tbody tr th:only-of-type {\n",
              "        vertical-align: middle;\n",
              "    }\n",
              "\n",
              "    .dataframe tbody tr th {\n",
              "        vertical-align: top;\n",
              "    }\n",
              "\n",
              "    .dataframe thead th {\n",
              "        text-align: right;\n",
              "    }\n",
              "</style>\n",
              "<table border=\"1\" class=\"dataframe\">\n",
              "  <thead>\n",
              "    <tr style=\"text-align: right;\">\n",
              "      <th></th>\n",
              "      <th>image</th>\n",
              "      <th>0</th>\n",
              "      <th>1</th>\n",
              "      <th>2</th>\n",
              "      <th>3</th>\n",
              "      <th>4</th>\n",
              "      <th>5</th>\n",
              "      <th>6</th>\n",
              "      <th>7</th>\n",
              "      <th>8</th>\n",
              "      <th>...</th>\n",
              "      <th>2128</th>\n",
              "      <th>2129</th>\n",
              "      <th>2130</th>\n",
              "      <th>2131</th>\n",
              "      <th>2132</th>\n",
              "      <th>2133</th>\n",
              "      <th>2134</th>\n",
              "      <th>2135</th>\n",
              "      <th>2136</th>\n",
              "      <th>2137</th>\n",
              "    </tr>\n",
              "  </thead>\n",
              "  <tbody>\n",
              "    <tr>\n",
              "      <th>0</th>\n",
              "      <td>wb_recognition_dataset/train\\0\\11_0.png</td>\n",
              "      <td>1</td>\n",
              "      <td>0</td>\n",
              "      <td>0</td>\n",
              "      <td>0</td>\n",
              "      <td>0</td>\n",
              "      <td>0</td>\n",
              "      <td>0</td>\n",
              "      <td>0</td>\n",
              "      <td>0</td>\n",
              "      <td>...</td>\n",
              "      <td>0</td>\n",
              "      <td>0</td>\n",
              "      <td>0</td>\n",
              "      <td>0</td>\n",
              "      <td>0</td>\n",
              "      <td>0</td>\n",
              "      <td>0</td>\n",
              "      <td>0</td>\n",
              "      <td>0</td>\n",
              "      <td>0</td>\n",
              "    </tr>\n",
              "    <tr>\n",
              "      <th>1</th>\n",
              "      <td>wb_recognition_dataset/train\\0\\12_0.png</td>\n",
              "      <td>1</td>\n",
              "      <td>0</td>\n",
              "      <td>0</td>\n",
              "      <td>0</td>\n",
              "      <td>0</td>\n",
              "      <td>0</td>\n",
              "      <td>0</td>\n",
              "      <td>0</td>\n",
              "      <td>0</td>\n",
              "      <td>...</td>\n",
              "      <td>0</td>\n",
              "      <td>0</td>\n",
              "      <td>0</td>\n",
              "      <td>0</td>\n",
              "      <td>0</td>\n",
              "      <td>0</td>\n",
              "      <td>0</td>\n",
              "      <td>0</td>\n",
              "      <td>0</td>\n",
              "      <td>0</td>\n",
              "    </tr>\n",
              "    <tr>\n",
              "      <th>2</th>\n",
              "      <td>wb_recognition_dataset/train\\0\\16_0.png</td>\n",
              "      <td>1</td>\n",
              "      <td>0</td>\n",
              "      <td>0</td>\n",
              "      <td>0</td>\n",
              "      <td>0</td>\n",
              "      <td>0</td>\n",
              "      <td>0</td>\n",
              "      <td>0</td>\n",
              "      <td>0</td>\n",
              "      <td>...</td>\n",
              "      <td>0</td>\n",
              "      <td>0</td>\n",
              "      <td>0</td>\n",
              "      <td>0</td>\n",
              "      <td>0</td>\n",
              "      <td>0</td>\n",
              "      <td>0</td>\n",
              "      <td>0</td>\n",
              "      <td>0</td>\n",
              "      <td>0</td>\n",
              "    </tr>\n",
              "    <tr>\n",
              "      <th>3</th>\n",
              "      <td>wb_recognition_dataset/train\\0\\17_0.png</td>\n",
              "      <td>1</td>\n",
              "      <td>0</td>\n",
              "      <td>0</td>\n",
              "      <td>0</td>\n",
              "      <td>0</td>\n",
              "      <td>0</td>\n",
              "      <td>0</td>\n",
              "      <td>0</td>\n",
              "      <td>0</td>\n",
              "      <td>...</td>\n",
              "      <td>0</td>\n",
              "      <td>0</td>\n",
              "      <td>0</td>\n",
              "      <td>0</td>\n",
              "      <td>0</td>\n",
              "      <td>0</td>\n",
              "      <td>0</td>\n",
              "      <td>0</td>\n",
              "      <td>0</td>\n",
              "      <td>0</td>\n",
              "    </tr>\n",
              "    <tr>\n",
              "      <th>4</th>\n",
              "      <td>wb_recognition_dataset/train\\0\\19_0.png</td>\n",
              "      <td>1</td>\n",
              "      <td>0</td>\n",
              "      <td>0</td>\n",
              "      <td>0</td>\n",
              "      <td>0</td>\n",
              "      <td>0</td>\n",
              "      <td>0</td>\n",
              "      <td>0</td>\n",
              "      <td>0</td>\n",
              "      <td>...</td>\n",
              "      <td>0</td>\n",
              "      <td>0</td>\n",
              "      <td>0</td>\n",
              "      <td>0</td>\n",
              "      <td>0</td>\n",
              "      <td>0</td>\n",
              "      <td>0</td>\n",
              "      <td>0</td>\n",
              "      <td>0</td>\n",
              "      <td>0</td>\n",
              "    </tr>\n",
              "    <tr>\n",
              "      <th>...</th>\n",
              "      <td>...</td>\n",
              "      <td>...</td>\n",
              "      <td>...</td>\n",
              "      <td>...</td>\n",
              "      <td>...</td>\n",
              "      <td>...</td>\n",
              "      <td>...</td>\n",
              "      <td>...</td>\n",
              "      <td>...</td>\n",
              "      <td>...</td>\n",
              "      <td>...</td>\n",
              "      <td>...</td>\n",
              "      <td>...</td>\n",
              "      <td>...</td>\n",
              "      <td>...</td>\n",
              "      <td>...</td>\n",
              "      <td>...</td>\n",
              "      <td>...</td>\n",
              "      <td>...</td>\n",
              "      <td>...</td>\n",
              "      <td>...</td>\n",
              "    </tr>\n",
              "    <tr>\n",
              "      <th>56808</th>\n",
              "      <td>wb_recognition_dataset/train\\999\\16_999.png</td>\n",
              "      <td>0</td>\n",
              "      <td>0</td>\n",
              "      <td>0</td>\n",
              "      <td>0</td>\n",
              "      <td>0</td>\n",
              "      <td>0</td>\n",
              "      <td>0</td>\n",
              "      <td>0</td>\n",
              "      <td>0</td>\n",
              "      <td>...</td>\n",
              "      <td>0</td>\n",
              "      <td>0</td>\n",
              "      <td>0</td>\n",
              "      <td>0</td>\n",
              "      <td>0</td>\n",
              "      <td>0</td>\n",
              "      <td>0</td>\n",
              "      <td>0</td>\n",
              "      <td>0</td>\n",
              "      <td>0</td>\n",
              "    </tr>\n",
              "    <tr>\n",
              "      <th>56809</th>\n",
              "      <td>wb_recognition_dataset/train\\999\\17_999.png</td>\n",
              "      <td>0</td>\n",
              "      <td>0</td>\n",
              "      <td>0</td>\n",
              "      <td>0</td>\n",
              "      <td>0</td>\n",
              "      <td>0</td>\n",
              "      <td>0</td>\n",
              "      <td>0</td>\n",
              "      <td>0</td>\n",
              "      <td>...</td>\n",
              "      <td>0</td>\n",
              "      <td>0</td>\n",
              "      <td>0</td>\n",
              "      <td>0</td>\n",
              "      <td>0</td>\n",
              "      <td>0</td>\n",
              "      <td>0</td>\n",
              "      <td>0</td>\n",
              "      <td>0</td>\n",
              "      <td>0</td>\n",
              "    </tr>\n",
              "    <tr>\n",
              "      <th>56810</th>\n",
              "      <td>wb_recognition_dataset/train\\999\\35_999.png</td>\n",
              "      <td>0</td>\n",
              "      <td>0</td>\n",
              "      <td>0</td>\n",
              "      <td>0</td>\n",
              "      <td>0</td>\n",
              "      <td>0</td>\n",
              "      <td>0</td>\n",
              "      <td>0</td>\n",
              "      <td>0</td>\n",
              "      <td>...</td>\n",
              "      <td>0</td>\n",
              "      <td>0</td>\n",
              "      <td>0</td>\n",
              "      <td>0</td>\n",
              "      <td>0</td>\n",
              "      <td>0</td>\n",
              "      <td>0</td>\n",
              "      <td>0</td>\n",
              "      <td>0</td>\n",
              "      <td>0</td>\n",
              "    </tr>\n",
              "    <tr>\n",
              "      <th>56811</th>\n",
              "      <td>wb_recognition_dataset/train\\999\\46_999.png</td>\n",
              "      <td>0</td>\n",
              "      <td>0</td>\n",
              "      <td>0</td>\n",
              "      <td>0</td>\n",
              "      <td>0</td>\n",
              "      <td>0</td>\n",
              "      <td>0</td>\n",
              "      <td>0</td>\n",
              "      <td>0</td>\n",
              "      <td>...</td>\n",
              "      <td>0</td>\n",
              "      <td>0</td>\n",
              "      <td>0</td>\n",
              "      <td>0</td>\n",
              "      <td>0</td>\n",
              "      <td>0</td>\n",
              "      <td>0</td>\n",
              "      <td>0</td>\n",
              "      <td>0</td>\n",
              "      <td>0</td>\n",
              "    </tr>\n",
              "    <tr>\n",
              "      <th>56812</th>\n",
              "      <td>wb_recognition_dataset/train\\999\\nlvnpf-0137-0...</td>\n",
              "      <td>0</td>\n",
              "      <td>0</td>\n",
              "      <td>0</td>\n",
              "      <td>0</td>\n",
              "      <td>0</td>\n",
              "      <td>0</td>\n",
              "      <td>0</td>\n",
              "      <td>0</td>\n",
              "      <td>0</td>\n",
              "      <td>...</td>\n",
              "      <td>0</td>\n",
              "      <td>0</td>\n",
              "      <td>0</td>\n",
              "      <td>0</td>\n",
              "      <td>0</td>\n",
              "      <td>0</td>\n",
              "      <td>0</td>\n",
              "      <td>0</td>\n",
              "      <td>0</td>\n",
              "      <td>0</td>\n",
              "    </tr>\n",
              "  </tbody>\n",
              "</table>\n",
              "<p>56813 rows × 2139 columns</p>\n",
              "</div>"
            ],
            "text/plain": [
              "                                                   image  0  1  2  3  4  5  6  \\\n",
              "0                wb_recognition_dataset/train\\0\\11_0.png  1  0  0  0  0  0  0   \n",
              "1                wb_recognition_dataset/train\\0\\12_0.png  1  0  0  0  0  0  0   \n",
              "2                wb_recognition_dataset/train\\0\\16_0.png  1  0  0  0  0  0  0   \n",
              "3                wb_recognition_dataset/train\\0\\17_0.png  1  0  0  0  0  0  0   \n",
              "4                wb_recognition_dataset/train\\0\\19_0.png  1  0  0  0  0  0  0   \n",
              "...                                                  ... .. .. .. .. .. .. ..   \n",
              "56808        wb_recognition_dataset/train\\999\\16_999.png  0  0  0  0  0  0  0   \n",
              "56809        wb_recognition_dataset/train\\999\\17_999.png  0  0  0  0  0  0  0   \n",
              "56810        wb_recognition_dataset/train\\999\\35_999.png  0  0  0  0  0  0  0   \n",
              "56811        wb_recognition_dataset/train\\999\\46_999.png  0  0  0  0  0  0  0   \n",
              "56812  wb_recognition_dataset/train\\999\\nlvnpf-0137-0...  0  0  0  0  0  0  0   \n",
              "\n",
              "       7  8  ...  2128  2129  2130  2131  2132  2133  2134  2135  2136  2137  \n",
              "0      0  0  ...     0     0     0     0     0     0     0     0     0     0  \n",
              "1      0  0  ...     0     0     0     0     0     0     0     0     0     0  \n",
              "2      0  0  ...     0     0     0     0     0     0     0     0     0     0  \n",
              "3      0  0  ...     0     0     0     0     0     0     0     0     0     0  \n",
              "4      0  0  ...     0     0     0     0     0     0     0     0     0     0  \n",
              "...   .. ..  ...   ...   ...   ...   ...   ...   ...   ...   ...   ...   ...  \n",
              "56808  0  0  ...     0     0     0     0     0     0     0     0     0     0  \n",
              "56809  0  0  ...     0     0     0     0     0     0     0     0     0     0  \n",
              "56810  0  0  ...     0     0     0     0     0     0     0     0     0     0  \n",
              "56811  0  0  ...     0     0     0     0     0     0     0     0     0     0  \n",
              "56812  0  0  ...     0     0     0     0     0     0     0     0     0     0  \n",
              "\n",
              "[56813 rows x 2139 columns]"
            ]
          },
          "execution_count": 20,
          "metadata": {},
          "output_type": "execute_result"
        }
      ],
      "source": [
        "main_df = pd.DataFrame(data, columns = ['image', 'label'])\n",
        "main_df = encoding(main_df)\n",
        "main_df"
      ]
    },
    {
      "cell_type": "code",
      "execution_count": 21,
      "metadata": {
        "id": "PVkhGuhgT-wP"
      },
      "outputs": [],
      "source": [
        "# check if all rows only have at maximum of 1 class\n",
        "assert main_df.iloc[:, 1:].sum(axis=1).max() == 1"
      ]
    },
    {
      "cell_type": "code",
      "execution_count": 22,
      "metadata": {
        "colab": {
          "base_uri": "https://localhost:8080/"
        },
        "id": "Lrhqr-IST-wP",
        "outputId": "52c92f4a-2e82-41d0-cbec-8f8feb88d6e4"
      },
      "outputs": [
        {
          "name": "stdout",
          "output_type": "stream",
          "text": [
            "0\n"
          ]
        }
      ],
      "source": [
        "# find the label of an image\n",
        "for c in main_df.columns[1:]:\n",
        "    if main_df[c].iloc[1] == 1: # change the index to find the label of another image, just for testing\n",
        "        print(c)"
      ]
    },
    {
      "cell_type": "code",
      "execution_count": 23,
      "metadata": {
        "id": "VQMj17OoT-wP"
      },
      "outputs": [],
      "source": [
        "# train_df = main_df.sample(frac=ratio, random_state=42)\n",
        "# valid_df = main_df.drop(train_df.index)\n",
        "\n",
        "# print(f'All Data: {main_df.shape}, Train Data: {train_df.shape}, Valid Data: {valid_df.shape}')"
      ]
    },
    {
      "cell_type": "code",
      "execution_count": 24,
      "metadata": {
        "colab": {
          "base_uri": "https://localhost:8080/"
        },
        "id": "ujjlqcB9vD1I",
        "outputId": "bc376076-f03b-41bb-dbb4-1c5704880938"
      },
      "outputs": [
        {
          "data": {
            "text/plain": [
              "10"
            ]
          },
          "execution_count": 24,
          "metadata": {},
          "output_type": "execute_result"
        }
      ],
      "source": [
        "valid_label = pd.read_csv(annotations_dir)\n",
        "valid_label.iloc[0][1]"
      ]
    },
    {
      "cell_type": "code",
      "execution_count": 25,
      "metadata": {
        "id": "HhDtw2nOu_R8"
      },
      "outputs": [],
      "source": [
        "valid_data = [\n",
        "    (os.path.join(testset_img, str(valid_label.iloc[i, 0])+ \".jpg\"), int(valid_label.iloc[i, 1]))\n",
        "    for i in range(valid_label.shape[0])\n",
        "]"
      ]
    },
    {
      "cell_type": "code",
      "execution_count": 26,
      "metadata": {
        "colab": {
          "base_uri": "https://localhost:8080/",
          "height": 461
        },
        "id": "vOB3bIvuvAvm",
        "outputId": "3d4d2bd9-01d0-46d8-dfdf-3e0a145ee63f"
      },
      "outputs": [
        {
          "name": "stderr",
          "output_type": "stream",
          "text": [
            "100%|██████████| 2138/2138 [00:01<00:00, 1886.14it/s]\n"
          ]
        },
        {
          "data": {
            "text/html": [
              "<div>\n",
              "<style scoped>\n",
              "    .dataframe tbody tr th:only-of-type {\n",
              "        vertical-align: middle;\n",
              "    }\n",
              "\n",
              "    .dataframe tbody tr th {\n",
              "        vertical-align: top;\n",
              "    }\n",
              "\n",
              "    .dataframe thead th {\n",
              "        text-align: right;\n",
              "    }\n",
              "</style>\n",
              "<table border=\"1\" class=\"dataframe\">\n",
              "  <thead>\n",
              "    <tr style=\"text-align: right;\">\n",
              "      <th></th>\n",
              "      <th>image</th>\n",
              "      <th>0</th>\n",
              "      <th>1</th>\n",
              "      <th>2</th>\n",
              "      <th>3</th>\n",
              "      <th>4</th>\n",
              "      <th>5</th>\n",
              "      <th>6</th>\n",
              "      <th>7</th>\n",
              "      <th>8</th>\n",
              "      <th>...</th>\n",
              "      <th>2128</th>\n",
              "      <th>2129</th>\n",
              "      <th>2130</th>\n",
              "      <th>2131</th>\n",
              "      <th>2132</th>\n",
              "      <th>2133</th>\n",
              "      <th>2134</th>\n",
              "      <th>2135</th>\n",
              "      <th>2136</th>\n",
              "      <th>2137</th>\n",
              "    </tr>\n",
              "  </thead>\n",
              "  <tbody>\n",
              "    <tr>\n",
              "      <th>0</th>\n",
              "      <td>wb_recognition_dataset/val/images\\0.jpg</td>\n",
              "      <td>0</td>\n",
              "      <td>0</td>\n",
              "      <td>0</td>\n",
              "      <td>0</td>\n",
              "      <td>0</td>\n",
              "      <td>0</td>\n",
              "      <td>0</td>\n",
              "      <td>0</td>\n",
              "      <td>0</td>\n",
              "      <td>...</td>\n",
              "      <td>0</td>\n",
              "      <td>0</td>\n",
              "      <td>0</td>\n",
              "      <td>0</td>\n",
              "      <td>0</td>\n",
              "      <td>0</td>\n",
              "      <td>0</td>\n",
              "      <td>0</td>\n",
              "      <td>0</td>\n",
              "      <td>0</td>\n",
              "    </tr>\n",
              "    <tr>\n",
              "      <th>1</th>\n",
              "      <td>wb_recognition_dataset/val/images\\1.jpg</td>\n",
              "      <td>0</td>\n",
              "      <td>0</td>\n",
              "      <td>0</td>\n",
              "      <td>0</td>\n",
              "      <td>0</td>\n",
              "      <td>0</td>\n",
              "      <td>0</td>\n",
              "      <td>0</td>\n",
              "      <td>0</td>\n",
              "      <td>...</td>\n",
              "      <td>0</td>\n",
              "      <td>0</td>\n",
              "      <td>0</td>\n",
              "      <td>0</td>\n",
              "      <td>0</td>\n",
              "      <td>0</td>\n",
              "      <td>0</td>\n",
              "      <td>0</td>\n",
              "      <td>0</td>\n",
              "      <td>0</td>\n",
              "    </tr>\n",
              "    <tr>\n",
              "      <th>2</th>\n",
              "      <td>wb_recognition_dataset/val/images\\2.jpg</td>\n",
              "      <td>0</td>\n",
              "      <td>0</td>\n",
              "      <td>0</td>\n",
              "      <td>0</td>\n",
              "      <td>0</td>\n",
              "      <td>0</td>\n",
              "      <td>0</td>\n",
              "      <td>0</td>\n",
              "      <td>0</td>\n",
              "      <td>...</td>\n",
              "      <td>0</td>\n",
              "      <td>0</td>\n",
              "      <td>0</td>\n",
              "      <td>0</td>\n",
              "      <td>0</td>\n",
              "      <td>0</td>\n",
              "      <td>0</td>\n",
              "      <td>0</td>\n",
              "      <td>0</td>\n",
              "      <td>0</td>\n",
              "    </tr>\n",
              "    <tr>\n",
              "      <th>3</th>\n",
              "      <td>wb_recognition_dataset/val/images\\3.jpg</td>\n",
              "      <td>0</td>\n",
              "      <td>0</td>\n",
              "      <td>0</td>\n",
              "      <td>0</td>\n",
              "      <td>0</td>\n",
              "      <td>0</td>\n",
              "      <td>0</td>\n",
              "      <td>0</td>\n",
              "      <td>0</td>\n",
              "      <td>...</td>\n",
              "      <td>0</td>\n",
              "      <td>0</td>\n",
              "      <td>0</td>\n",
              "      <td>0</td>\n",
              "      <td>0</td>\n",
              "      <td>0</td>\n",
              "      <td>0</td>\n",
              "      <td>0</td>\n",
              "      <td>0</td>\n",
              "      <td>0</td>\n",
              "    </tr>\n",
              "    <tr>\n",
              "      <th>4</th>\n",
              "      <td>wb_recognition_dataset/val/images\\4.jpg</td>\n",
              "      <td>0</td>\n",
              "      <td>0</td>\n",
              "      <td>0</td>\n",
              "      <td>0</td>\n",
              "      <td>0</td>\n",
              "      <td>0</td>\n",
              "      <td>0</td>\n",
              "      <td>0</td>\n",
              "      <td>0</td>\n",
              "      <td>...</td>\n",
              "      <td>0</td>\n",
              "      <td>0</td>\n",
              "      <td>0</td>\n",
              "      <td>0</td>\n",
              "      <td>0</td>\n",
              "      <td>0</td>\n",
              "      <td>0</td>\n",
              "      <td>0</td>\n",
              "      <td>0</td>\n",
              "      <td>0</td>\n",
              "    </tr>\n",
              "    <tr>\n",
              "      <th>...</th>\n",
              "      <td>...</td>\n",
              "      <td>...</td>\n",
              "      <td>...</td>\n",
              "      <td>...</td>\n",
              "      <td>...</td>\n",
              "      <td>...</td>\n",
              "      <td>...</td>\n",
              "      <td>...</td>\n",
              "      <td>...</td>\n",
              "      <td>...</td>\n",
              "      <td>...</td>\n",
              "      <td>...</td>\n",
              "      <td>...</td>\n",
              "      <td>...</td>\n",
              "      <td>...</td>\n",
              "      <td>...</td>\n",
              "      <td>...</td>\n",
              "      <td>...</td>\n",
              "      <td>...</td>\n",
              "      <td>...</td>\n",
              "      <td>...</td>\n",
              "    </tr>\n",
              "    <tr>\n",
              "      <th>1387</th>\n",
              "      <td>wb_recognition_dataset/val/images\\1387.jpg</td>\n",
              "      <td>0</td>\n",
              "      <td>0</td>\n",
              "      <td>0</td>\n",
              "      <td>0</td>\n",
              "      <td>0</td>\n",
              "      <td>0</td>\n",
              "      <td>0</td>\n",
              "      <td>0</td>\n",
              "      <td>0</td>\n",
              "      <td>...</td>\n",
              "      <td>0</td>\n",
              "      <td>0</td>\n",
              "      <td>0</td>\n",
              "      <td>0</td>\n",
              "      <td>0</td>\n",
              "      <td>0</td>\n",
              "      <td>0</td>\n",
              "      <td>0</td>\n",
              "      <td>0</td>\n",
              "      <td>0</td>\n",
              "    </tr>\n",
              "    <tr>\n",
              "      <th>1388</th>\n",
              "      <td>wb_recognition_dataset/val/images\\1388.jpg</td>\n",
              "      <td>0</td>\n",
              "      <td>0</td>\n",
              "      <td>0</td>\n",
              "      <td>0</td>\n",
              "      <td>0</td>\n",
              "      <td>0</td>\n",
              "      <td>0</td>\n",
              "      <td>0</td>\n",
              "      <td>0</td>\n",
              "      <td>...</td>\n",
              "      <td>0</td>\n",
              "      <td>0</td>\n",
              "      <td>0</td>\n",
              "      <td>0</td>\n",
              "      <td>0</td>\n",
              "      <td>0</td>\n",
              "      <td>0</td>\n",
              "      <td>0</td>\n",
              "      <td>0</td>\n",
              "      <td>0</td>\n",
              "    </tr>\n",
              "    <tr>\n",
              "      <th>1389</th>\n",
              "      <td>wb_recognition_dataset/val/images\\1389.jpg</td>\n",
              "      <td>0</td>\n",
              "      <td>0</td>\n",
              "      <td>0</td>\n",
              "      <td>0</td>\n",
              "      <td>0</td>\n",
              "      <td>0</td>\n",
              "      <td>0</td>\n",
              "      <td>0</td>\n",
              "      <td>0</td>\n",
              "      <td>...</td>\n",
              "      <td>0</td>\n",
              "      <td>0</td>\n",
              "      <td>0</td>\n",
              "      <td>0</td>\n",
              "      <td>0</td>\n",
              "      <td>0</td>\n",
              "      <td>0</td>\n",
              "      <td>0</td>\n",
              "      <td>0</td>\n",
              "      <td>0</td>\n",
              "    </tr>\n",
              "    <tr>\n",
              "      <th>1390</th>\n",
              "      <td>wb_recognition_dataset/val/images\\1390.jpg</td>\n",
              "      <td>0</td>\n",
              "      <td>0</td>\n",
              "      <td>0</td>\n",
              "      <td>0</td>\n",
              "      <td>0</td>\n",
              "      <td>0</td>\n",
              "      <td>0</td>\n",
              "      <td>0</td>\n",
              "      <td>0</td>\n",
              "      <td>...</td>\n",
              "      <td>0</td>\n",
              "      <td>0</td>\n",
              "      <td>0</td>\n",
              "      <td>0</td>\n",
              "      <td>0</td>\n",
              "      <td>0</td>\n",
              "      <td>0</td>\n",
              "      <td>0</td>\n",
              "      <td>0</td>\n",
              "      <td>0</td>\n",
              "    </tr>\n",
              "    <tr>\n",
              "      <th>1391</th>\n",
              "      <td>wb_recognition_dataset/val/images\\1391.jpg</td>\n",
              "      <td>0</td>\n",
              "      <td>0</td>\n",
              "      <td>0</td>\n",
              "      <td>0</td>\n",
              "      <td>0</td>\n",
              "      <td>0</td>\n",
              "      <td>0</td>\n",
              "      <td>0</td>\n",
              "      <td>0</td>\n",
              "      <td>...</td>\n",
              "      <td>0</td>\n",
              "      <td>0</td>\n",
              "      <td>0</td>\n",
              "      <td>0</td>\n",
              "      <td>0</td>\n",
              "      <td>0</td>\n",
              "      <td>0</td>\n",
              "      <td>0</td>\n",
              "      <td>0</td>\n",
              "      <td>0</td>\n",
              "    </tr>\n",
              "  </tbody>\n",
              "</table>\n",
              "<p>1392 rows × 2139 columns</p>\n",
              "</div>"
            ],
            "text/plain": [
              "                                           image  0  1  2  3  4  5  6  7  8  \\\n",
              "0        wb_recognition_dataset/val/images\\0.jpg  0  0  0  0  0  0  0  0  0   \n",
              "1        wb_recognition_dataset/val/images\\1.jpg  0  0  0  0  0  0  0  0  0   \n",
              "2        wb_recognition_dataset/val/images\\2.jpg  0  0  0  0  0  0  0  0  0   \n",
              "3        wb_recognition_dataset/val/images\\3.jpg  0  0  0  0  0  0  0  0  0   \n",
              "4        wb_recognition_dataset/val/images\\4.jpg  0  0  0  0  0  0  0  0  0   \n",
              "...                                          ... .. .. .. .. .. .. .. .. ..   \n",
              "1387  wb_recognition_dataset/val/images\\1387.jpg  0  0  0  0  0  0  0  0  0   \n",
              "1388  wb_recognition_dataset/val/images\\1388.jpg  0  0  0  0  0  0  0  0  0   \n",
              "1389  wb_recognition_dataset/val/images\\1389.jpg  0  0  0  0  0  0  0  0  0   \n",
              "1390  wb_recognition_dataset/val/images\\1390.jpg  0  0  0  0  0  0  0  0  0   \n",
              "1391  wb_recognition_dataset/val/images\\1391.jpg  0  0  0  0  0  0  0  0  0   \n",
              "\n",
              "      ...  2128  2129  2130  2131  2132  2133  2134  2135  2136  2137  \n",
              "0     ...     0     0     0     0     0     0     0     0     0     0  \n",
              "1     ...     0     0     0     0     0     0     0     0     0     0  \n",
              "2     ...     0     0     0     0     0     0     0     0     0     0  \n",
              "3     ...     0     0     0     0     0     0     0     0     0     0  \n",
              "4     ...     0     0     0     0     0     0     0     0     0     0  \n",
              "...   ...   ...   ...   ...   ...   ...   ...   ...   ...   ...   ...  \n",
              "1387  ...     0     0     0     0     0     0     0     0     0     0  \n",
              "1388  ...     0     0     0     0     0     0     0     0     0     0  \n",
              "1389  ...     0     0     0     0     0     0     0     0     0     0  \n",
              "1390  ...     0     0     0     0     0     0     0     0     0     0  \n",
              "1391  ...     0     0     0     0     0     0     0     0     0     0  \n",
              "\n",
              "[1392 rows x 2139 columns]"
            ]
          },
          "execution_count": 26,
          "metadata": {},
          "output_type": "execute_result"
        }
      ],
      "source": [
        "val_df = pd.DataFrame(valid_data, columns = ['image', 'label'])\n",
        "val_df = encoding(val_df)\n",
        "val_df"
      ]
    },
    {
      "cell_type": "code",
      "execution_count": 27,
      "metadata": {
        "id": "ErMihn8UthU8"
      },
      "outputs": [],
      "source": [
        "def process_img(img_path: str, width=64, height=64):\n",
        "    img = cv2.imread(img_path)\n",
        "    gray = cv2.cvtColor(img, cv2.COLOR_BGR2GRAY)\n",
        "    # result = cv2.threshold(gray, 0, 255, cv2.THRESH_BINARY + cv2.THRESH_OTSU)[1]\n",
        "    result = cv2.adaptiveThreshold(gray, 255, cv2.ADAPTIVE_THRESH_GAUSSIAN_C, cv2.THRESH_BINARY, 19, 17)\n",
        "    result = cv2.resize(result, (width, height))\n",
        "    result = Image.fromarray(result).convert('RGB')\n",
        "\n",
        "    return result"
      ]
    },
    {
      "cell_type": "code",
      "execution_count": 28,
      "metadata": {
        "id": "OazENKc6T-wQ"
      },
      "outputs": [],
      "source": [
        "class CNV_Dataset(Dataset):\n",
        "    def __init__(self, df, transform=None):\n",
        "        self.df = df\n",
        "        self.transform = transform\n",
        "        self.labels = df.iloc[:, 1:].values\n",
        "\n",
        "    def __len__(self):\n",
        "        return len(self.df)\n",
        "\n",
        "    def __getitem__(self, idx):\n",
        "        img_path = self.df.iloc[idx, 0]\n",
        "        img = process_img(img_path=img_path)\n",
        "        img_tensor = self.transform(img)\n",
        "        label = torch.tensor(self.labels[idx], dtype=torch.float32)\n",
        "        return img_tensor, label"
      ]
    },
    {
      "cell_type": "code",
      "execution_count": 29,
      "metadata": {
        "id": "9mv8GYoFT-wQ"
      },
      "outputs": [],
      "source": [
        "trainset = CNV_Dataset(main_df, transform=transform)\n",
        "validset = CNV_Dataset(val_df, transform=transform)"
      ]
    },
    {
      "cell_type": "code",
      "execution_count": null,
      "metadata": {
        "id": "0kRkaVaavlLG"
      },
      "outputs": [],
      "source": []
    },
    {
      "cell_type": "code",
      "execution_count": 30,
      "metadata": {
        "colab": {
          "base_uri": "https://localhost:8080/",
          "height": 447
        },
        "id": "rT_foUx9T-wQ",
        "outputId": "8cf894a0-68c6-4df2-f8e1-48ab878582a4"
      },
      "outputs": [
        {
          "data": {
            "image/png": "[encoded data removed]",
            "text/plain": [
              "<Figure size 640x480 with 1 Axes>"
            ]
          },
          "metadata": {},
          "output_type": "display_data"
        },
        {
          "name": "stdout",
          "output_type": "stream",
          "text": [
            "tensor([1., 0., 0.,  ..., 0., 0., 0.])\n"
          ]
        }
      ],
      "source": [
        "# see a sample image, plot it\n",
        "img, label = trainset[0]\n",
        "plt.imshow(img.permute(1, 2, 0))\n",
        "plt.show()\n",
        "print(label)"
      ]
    },
    {
      "cell_type": "markdown",
      "metadata": {
        "id": "3-ES6QCcyW_f"
      },
      "source": [
        "### DataLoader\n"
      ]
    },
    {
      "cell_type": "code",
      "execution_count": 31,
      "metadata": {
        "id": "pfN-IKsdyWQt"
      },
      "outputs": [],
      "source": [
        "batch_size = 64\n",
        "train_loader = DataLoader(trainset, batch_size=batch_size, shuffle=True)\n",
        "val_loader = DataLoader(validset, batch_size=batch_size, shuffle=False)"
      ]
    },
    {
      "cell_type": "markdown",
      "metadata": {
        "id": "c2ParDy_1DnV"
      },
      "source": [
        "# Model"
      ]
    },
    {
      "cell_type": "markdown",
      "metadata": {
        "id": "KwNlUm6S1Fwx"
      },
      "source": [
        "### Model Architecture"
      ]
    },
    {
      "cell_type": "markdown",
      "metadata": {
        "id": "j8WK_K15daMG"
      },
      "source": [
        "#### Alexnet (Custom)\n",
        "Input:\n",
        "- 3 x 227 x 227\n",
        "\n",
        "Output:\n",
        "\n",
        "- 1000 (Base) -> 2130 (Adjusted)\n"
      ]
    },
    {
      "cell_type": "code",
      "execution_count": 32,
      "metadata": {
        "id": "HHFGxA_PdtvN"
      },
      "outputs": [],
      "source": [
        "class AlexNet(nn.Module):\n",
        "    def __init__(self, out_dim):\n",
        "        super(AlexNet, self).__init__()\n",
        "        self.layer1 = nn.Sequential(\n",
        "            nn.Conv2d(3, 96, kernel_size=11, stride=4, padding=0),\n",
        "            nn.BatchNorm2d(96),\n",
        "            nn.ReLU(),\n",
        "            nn.MaxPool2d(kernel_size = 3, stride = 2))\n",
        "        self.layer2 = nn.Sequential(\n",
        "            nn.Conv2d(96, 256, kernel_size=5, stride=1, padding=2),\n",
        "            nn.BatchNorm2d(256),\n",
        "            nn.ReLU(),\n",
        "            nn.MaxPool2d(kernel_size = 3, stride = 2))\n",
        "        self.layer3 = nn.Sequential(\n",
        "            nn.Conv2d(256, 384, kernel_size=3, stride=1, padding=1),\n",
        "            nn.BatchNorm2d(384),\n",
        "            nn.ReLU())\n",
        "        self.layer4 = nn.Sequential(\n",
        "            nn.Conv2d(384, 384, kernel_size=3, stride=1, padding=1),\n",
        "            nn.BatchNorm2d(384),\n",
        "            nn.ReLU())\n",
        "        self.layer5 = nn.Sequential(\n",
        "            nn.Conv2d(384, 256, kernel_size=3, stride=1, padding=1),\n",
        "            nn.BatchNorm2d(256),\n",
        "            nn.ReLU(),\n",
        "            nn.MaxPool2d(kernel_size = 3, stride = 2))\n",
        "        self.fc = nn.Sequential(\n",
        "            nn.Dropout(0.5),\n",
        "            nn.Linear(9216, 4096),\n",
        "            nn.ReLU())\n",
        "        self.fc1 = nn.Sequential(\n",
        "            nn.Dropout(0.5),\n",
        "            nn.Linear(4096, 4096),\n",
        "            nn.ReLU())\n",
        "        self.fc2= nn.Sequential(\n",
        "            nn.Linear(4096, out_dim))\n",
        "\n",
        "    def forward(self, x):\n",
        "        out = self.layer1(x)\n",
        "        out = self.layer2(out)\n",
        "        out = self.layer3(out)\n",
        "        out = self.layer4(out)\n",
        "        out = self.layer5(out)\n",
        "        out = out.reshape(out.size(0), -1)\n",
        "        out = self.fc(out)\n",
        "        out = self.fc1(out)\n",
        "        out = self.fc2(out)\n",
        "        return out"
      ]
    },
    {
      "cell_type": "markdown",
      "metadata": {
        "id": "tjGFPAVudfqv"
      },
      "source": [
        "#### Custom Model"
      ]
    },
    {
      "cell_type": "code",
      "execution_count": 33,
      "metadata": {
        "id": "QPZ4kukI1OoG"
      },
      "outputs": [],
      "source": [
        "# MNIST (1, 28, 28)\n",
        "class CustomBuiltModel(nn.Module):\n",
        "    def __init__(self, out_dim=10):\n",
        "        super(CustomBuiltModel, self).__init__()\n",
        "        self.conv1 = nn.Conv2d(3, 32, 3, 1)\n",
        "        self.conv2 = nn.Conv2d(32, 64, 3, 1)\n",
        "        self.conv3 = nn.Conv2d(64, 128, 3, 1)\n",
        "\n",
        "        x = torch.randn(3, 32, 32).view(-1, 3, 32, 32)\n",
        "        self._to_linear = None\n",
        "        self.convs(x)\n",
        "\n",
        "        self.fc1 = nn.Linear(self._to_linear, 512)\n",
        "        self.fc2 = nn.Linear(512, out_dim)\n",
        "\n",
        "    def convs(self, x):\n",
        "        x = F.max_pool2d(F.relu(self.conv1(x)), (2, 2))\n",
        "        x = F.max_pool2d(F.relu(self.conv2(x)), (2, 2))\n",
        "        x = F.max_pool2d(F.relu(self.conv3(x)), (2, 2))\n",
        "\n",
        "        if self._to_linear is None:\n",
        "            self._to_linear = x[0].shape[0] * x[0].shape[1] * x[0].shape[2]\n",
        "        return x"
      ]
    },
    {
      "cell_type": "code",
      "execution_count": 34,
      "metadata": {
        "id": "sdc9ss0Ya0G9"
      },
      "outputs": [],
      "source": [
        "class SimpleCNN(nn.Module):\n",
        "    def __init__(self, out_dim):\n",
        "        super(SimpleCNN, self).__init__()\n",
        "        self.conv1 = nn.Conv2d(3, 16, kernel_size=3, stride=1, padding=1)\n",
        "        self.conv2 = nn.Conv2d(16, 32, kernel_size=3, stride=1, padding=1)\n",
        "        self.pool = nn.MaxPool2d(kernel_size=2, stride=2, padding=0)\n",
        "        self.fc1 = nn.Linear(32 * 8 * 8, 128)\n",
        "        self.fc2 = nn.Linear(128, out_dim)\n",
        "\n",
        "    def forward(self, x): # x dim: 3, 32, 32\n",
        "        x = F.relu(self.conv1(x)) # dim: 16, 32, 32\n",
        "        x = self.pool(x) # dim: 16, 16, 16\n",
        "        x = F.relu(self.conv2(x)) # dim: 32, 16, 16\n",
        "        x = self.pool(x) # dim: 32, 8, 8\n",
        "        x = x.view(-1, 32 * 8 * 8) # dim: 32 * 8 * 8\n",
        "        x = F.relu(self.fc1(x)) # dim: 128\n",
        "        x = self.fc2(x) # dim: out_dim\n",
        "        return x"
      ]
    },
    {
      "cell_type": "markdown",
      "metadata": {
        "id": "-aXXN7AQdoew"
      },
      "source": [
        "### Initiate Model\n",
        "\n",
        "Note: Change the input data transform fuction accordingly to the chosen model\n"
      ]
    },
    {
      "cell_type": "code",
      "execution_count": 35,
      "metadata": {
        "id": "WZFK52GkeqJv"
      },
      "outputs": [],
      "source": [
        "outdim = num_classes"
      ]
    },
    {
      "cell_type": "code",
      "execution_count": 36,
      "metadata": {
        "colab": {
          "base_uri": "https://localhost:8080/"
        },
        "id": "zmTytOuX2A0P",
        "outputId": "5c910d31-1064-483b-c9c2-0bc25486a6ba"
      },
      "outputs": [
        {
          "data": {
            "text/plain": [
              "SimpleCNN(\n",
              "  (conv1): Conv2d(3, 16, kernel_size=(3, 3), stride=(1, 1), padding=(1, 1))\n",
              "  (conv2): Conv2d(16, 32, kernel_size=(3, 3), stride=(1, 1), padding=(1, 1))\n",
              "  (pool): MaxPool2d(kernel_size=2, stride=2, padding=0, dilation=1, ceil_mode=False)\n",
              "  (fc1): Linear(in_features=2048, out_features=128, bias=True)\n",
              "  (fc2): Linear(in_features=128, out_features=2138, bias=True)\n",
              ")"
            ]
          },
          "execution_count": 36,
          "metadata": {},
          "output_type": "execute_result"
        }
      ],
      "source": [
        "model = SimpleCNN(outdim).to(device)\n",
        "model"
      ]
    },
    {
      "cell_type": "markdown",
      "metadata": {
        "id": "dVuRP8WK2_XD"
      },
      "source": [
        "# Traning\n",
        "\n"
      ]
    },
    {
      "cell_type": "markdown",
      "metadata": {
        "id": "q-oDrRqX2h6f"
      },
      "source": [
        "### Parameter"
      ]
    },
    {
      "cell_type": "code",
      "execution_count": 37,
      "metadata": {
        "id": "MpFQ9KAD2V9m"
      },
      "outputs": [],
      "source": [
        "leaning_rate = 1e-3\n",
        "criterion = nn.CrossEntropyLoss()\n",
        "optimizer = optim.Adam(model.parameters(), lr=leaning_rate)"
      ]
    },
    {
      "cell_type": "markdown",
      "metadata": {
        "id": "ahsoJFvhd_i7"
      },
      "source": [
        "### Traning Loop"
      ]
    },
    {
      "cell_type": "code",
      "execution_count": 38,
      "metadata": {
        "id": "J1QFVFGHa0HG"
      },
      "outputs": [],
      "source": [
        "def train(epoch):\n",
        "    model.train()\n",
        "    for x, y in tqdm(train_loader):\n",
        "        x = x.to(device)\n",
        "        # print(x.shape)\n",
        "        y = y.to(device)\n",
        "\n",
        "        optimizer.zero_grad()\n",
        "        output = model(x)\n",
        "        loss = criterion(output, torch.argmax(y, 1))\n",
        "        loss.backward()\n",
        "        optimizer.step()\n",
        "\n",
        "    print(f\"Epoch: {epoch}, Loss: {loss.item()}\")"
      ]
    },
    {
      "cell_type": "code",
      "execution_count": 39,
      "metadata": {
        "id": "kAcqSIRoa0HG"
      },
      "outputs": [],
      "source": [
        "def valid():\n",
        "    model.eval()\n",
        "    loss = 0\n",
        "    correct = 0\n",
        "    with torch.no_grad():\n",
        "        for x, y in tqdm(val_loader):\n",
        "            x = x.to(device)\n",
        "            y = y.to(device)\n",
        "            output = model(x)\n",
        "            loss += criterion(output, y).item()\n",
        "            pred = output.argmax(dim=1, keepdim=True)\n",
        "            correct += pred.eq(y.argmax(dim=1, keepdim=True)).sum().item()\n",
        "    loss /= len(val_loader.dataset)\n",
        "    accuracy =correct / len(val_loader.dataset)\n",
        "    return loss, accuracy"
      ]
    },
    {
      "cell_type": "code",
      "execution_count": 40,
      "metadata": {
        "colab": {
          "base_uri": "https://localhost:8080/"
        },
        "id": "U-_X0-mta1Ho",
        "outputId": "facf4cd5-6f67-4d91-b6f3-af2bea2494ea"
      },
      "outputs": [
        {
          "name": "stderr",
          "output_type": "stream",
          "text": [
            "100%|██████████| 888/888 [00:32<00:00, 27.75it/s]\n"
          ]
        },
        {
          "name": "stdout",
          "output_type": "stream",
          "text": [
            "Epoch: 0, Loss: 6.185853958129883\n"
          ]
        },
        {
          "name": "stderr",
          "output_type": "stream",
          "text": [
            "100%|██████████| 22/22 [00:03<00:00,  6.00it/s]\n"
          ]
        },
        {
          "name": "stdout",
          "output_type": "stream",
          "text": [
            "(0.07287502562862704, 0.3017241379310345)\n"
          ]
        },
        {
          "name": "stderr",
          "output_type": "stream",
          "text": [
            "100%|██████████| 888/888 [00:28<00:00, 31.22it/s]\n"
          ]
        },
        {
          "name": "stdout",
          "output_type": "stream",
          "text": [
            "Epoch: 1, Loss: 4.019102573394775\n"
          ]
        },
        {
          "name": "stderr",
          "output_type": "stream",
          "text": [
            "100%|██████████| 22/22 [00:00<00:00, 31.19it/s]\n"
          ]
        },
        {
          "name": "stdout",
          "output_type": "stream",
          "text": [
            "(0.04859547342719703, 0.47485632183908044)\n"
          ]
        },
        {
          "name": "stderr",
          "output_type": "stream",
          "text": [
            "100%|██████████| 888/888 [00:27<00:00, 31.82it/s]\n"
          ]
        },
        {
          "name": "stdout",
          "output_type": "stream",
          "text": [
            "Epoch: 2, Loss: 2.9833407402038574\n"
          ]
        },
        {
          "name": "stderr",
          "output_type": "stream",
          "text": [
            "100%|██████████| 22/22 [00:00<00:00, 32.91it/s]\n"
          ]
        },
        {
          "name": "stdout",
          "output_type": "stream",
          "text": [
            "(0.041215655019228484, 0.540948275862069)\n"
          ]
        },
        {
          "name": "stderr",
          "output_type": "stream",
          "text": [
            "100%|██████████| 888/888 [00:27<00:00, 32.16it/s]\n"
          ]
        },
        {
          "name": "stdout",
          "output_type": "stream",
          "text": [
            "Epoch: 3, Loss: 2.139761209487915\n"
          ]
        },
        {
          "name": "stderr",
          "output_type": "stream",
          "text": [
            "100%|██████████| 22/22 [00:00<00:00, 34.01it/s]\n"
          ]
        },
        {
          "name": "stdout",
          "output_type": "stream",
          "text": [
            "(0.03809008190686675, 0.5847701149425287)\n"
          ]
        },
        {
          "name": "stderr",
          "output_type": "stream",
          "text": [
            "100%|██████████| 888/888 [00:27<00:00, 32.19it/s]\n"
          ]
        },
        {
          "name": "stdout",
          "output_type": "stream",
          "text": [
            "Epoch: 4, Loss: 1.881561279296875\n"
          ]
        },
        {
          "name": "stderr",
          "output_type": "stream",
          "text": [
            "100%|██████████| 22/22 [00:00<00:00, 33.88it/s]\n"
          ]
        },
        {
          "name": "stdout",
          "output_type": "stream",
          "text": [
            "(0.03629934959027959, 0.6170977011494253)\n"
          ]
        },
        {
          "name": "stderr",
          "output_type": "stream",
          "text": [
            "100%|██████████| 888/888 [00:27<00:00, 32.14it/s]\n"
          ]
        },
        {
          "name": "stdout",
          "output_type": "stream",
          "text": [
            "Epoch: 5, Loss: 1.1643731594085693\n"
          ]
        },
        {
          "name": "stderr",
          "output_type": "stream",
          "text": [
            "100%|██████████| 22/22 [00:00<00:00, 32.94it/s]\n"
          ]
        },
        {
          "name": "stdout",
          "output_type": "stream",
          "text": [
            "(0.03804173911439961, 0.6149425287356322)\n"
          ]
        },
        {
          "name": "stderr",
          "output_type": "stream",
          "text": [
            "100%|██████████| 888/888 [00:28<00:00, 31.71it/s]\n"
          ]
        },
        {
          "name": "stdout",
          "output_type": "stream",
          "text": [
            "Epoch: 6, Loss: 1.0610108375549316\n"
          ]
        },
        {
          "name": "stderr",
          "output_type": "stream",
          "text": [
            "100%|██████████| 22/22 [00:00<00:00, 32.54it/s]\n"
          ]
        },
        {
          "name": "stdout",
          "output_type": "stream",
          "text": [
            "(0.03797081849355807, 0.6278735632183908)\n"
          ]
        },
        {
          "name": "stderr",
          "output_type": "stream",
          "text": [
            "100%|██████████| 888/888 [00:27<00:00, 31.87it/s]\n"
          ]
        },
        {
          "name": "stdout",
          "output_type": "stream",
          "text": [
            "Epoch: 7, Loss: 1.4203072786331177\n"
          ]
        },
        {
          "name": "stderr",
          "output_type": "stream",
          "text": [
            "100%|██████████| 22/22 [00:00<00:00, 34.37it/s]\n"
          ]
        },
        {
          "name": "stdout",
          "output_type": "stream",
          "text": [
            "(0.04076881055859314, 0.6185344827586207)\n"
          ]
        },
        {
          "name": "stderr",
          "output_type": "stream",
          "text": [
            "100%|██████████| 888/888 [00:29<00:00, 29.71it/s]\n"
          ]
        },
        {
          "name": "stdout",
          "output_type": "stream",
          "text": [
            "Epoch: 8, Loss: 0.7980194091796875\n"
          ]
        },
        {
          "name": "stderr",
          "output_type": "stream",
          "text": [
            "100%|██████████| 22/22 [00:00<00:00, 32.47it/s]\n"
          ]
        },
        {
          "name": "stdout",
          "output_type": "stream",
          "text": [
            "(0.04356266266998203, 0.632183908045977)\n"
          ]
        },
        {
          "name": "stderr",
          "output_type": "stream",
          "text": [
            "100%|██████████| 888/888 [00:28<00:00, 31.66it/s]\n"
          ]
        },
        {
          "name": "stdout",
          "output_type": "stream",
          "text": [
            "Epoch: 9, Loss: 1.030746340751648\n"
          ]
        },
        {
          "name": "stderr",
          "output_type": "stream",
          "text": [
            "100%|██████████| 22/22 [00:00<00:00, 33.26it/s]"
          ]
        },
        {
          "name": "stdout",
          "output_type": "stream",
          "text": [
            "(0.04154563168513364, 0.6429597701149425)\n"
          ]
        },
        {
          "name": "stderr",
          "output_type": "stream",
          "text": [
            "\n"
          ]
        }
      ],
      "source": [
        "epochs = 10\n",
        "for epoch in range(epochs):\n",
        "    train(epoch)\n",
        "    print(valid())"
      ]
    },
    {
      "cell_type": "code",
      "execution_count": null,
      "metadata": {
        "id": "uTAASl_Qf0sR"
      },
      "outputs": [],
      "source": []
    }
  ],
  "metadata": {
    "colab": {
      "provenance": []
    },
    "kernelspec": {
      "display_name": "Python 3",
      "name": "python3"
    },
    "language_info": {
      "codemirror_mode": {
        "name": "ipython",
        "version": 3
      },
      "file_extension": ".py",
      "mimetype": "text/x-python",
      "name": "python",
      "nbconvert_exporter": "python",
      "pygments_lexer": "ipython3",
      "version": "3.12.2"
    }
  },
  "nbformat": 4,
  "nbformat_minor": 0
}
