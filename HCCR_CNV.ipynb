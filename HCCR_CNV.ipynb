{
  "cells": [
    {
      "cell_type": "markdown",
      "metadata": {
        "id": "xbhnOplZRhsu"
      },
      "source": [
        "# Dependencies"
      ]
    },
    {
      "cell_type": "code",
      "execution_count": 1,
      "metadata": {
        "id": "PsX6NXCiVhB9"
      },
      "outputs": [],
      "source": [
        "import os\n",
        "import numpy as np\n",
        "import pandas as pd\n",
        "from pathlib import Path\n",
        "import matplotlib.pyplot as plt\n",
        "import cv2\n",
        "from PIL import Image\n",
        "\n",
        "#Torch\n",
        "\n",
        "import torch\n",
        "import torchvision\n",
        "from torch.utils.data import Dataset, DataLoader\n",
        "from torchvision import transforms, utils, datasets\n",
        "from torchvision.transforms import ToTensor\n",
        "from torchvision.io import read_image\n",
        "#Torch model\n",
        "import torch.nn as nn\n",
        "from torchvision import models\n",
        "import torch.nn.functional as F\n",
        "import torch.optim as optim\n",
        "import time"
      ]
    },
    {
      "cell_type": "code",
      "execution_count": 2,
      "metadata": {
        "id": "qNw0zqWOjMYD"
      },
      "outputs": [
        {
          "data": {
            "text/plain": [
              "device(type='cuda', index=0)"
            ]
          },
          "execution_count": 2,
          "metadata": {},
          "output_type": "execute_result"
        }
      ],
      "source": [
        "device = torch.device(\"cuda:0\" if torch.cuda.is_available() else \"cpu\")\n",
        "device"
      ]
    },
    {
      "cell_type": "markdown",
      "metadata": {
        "id": "pzWlF0xUjaX6"
      },
      "source": [
        "# Data Processing\n",
        "\n"
      ]
    },
    {
      "cell_type": "markdown",
      "metadata": {
        "id": "UjH4Z1pOEZMO"
      },
      "source": [
        "### Upload data to colab"
      ]
    },
    {
      "cell_type": "code",
      "execution_count": 3,
      "metadata": {
        "colab": {
          "base_uri": "https://localhost:8080/"
        },
        "id": "jJQDyCnA94hX",
        "outputId": "4b5d5c52-2d07-4fae-c893-2296a0b5d09b"
      },
      "outputs": [
        {
          "name": "stderr",
          "output_type": "stream",
          "text": [
            "Traceback (most recent call last):\n",
            "  File \"C:\\Users\\OC\\.conda\\envs\\cv\\Lib\\site-packages\\requests\\compat.py\", line 11, in <module>\n",
            "    import chardet\n",
            "ModuleNotFoundError: No module named 'chardet'\n",
            "\n",
            "During handling of the above exception, another exception occurred:\n",
            "\n",
            "Traceback (most recent call last):\n",
            "  File \"<frozen runpy>\", line 198, in _run_module_as_main\n",
            "  File \"<frozen runpy>\", line 88, in _run_code\n",
            "  File \"C:\\Users\\OC\\.conda\\envs\\cv\\Scripts\\gdown.exe\\__main__.py\", line 4, in <module>\n",
            "  File \"C:\\Users\\OC\\.conda\\envs\\cv\\Lib\\site-packages\\gdown\\__init__.py\", line 4, in <module>\n",
            "    from .cached_download import cached_download\n",
            "  File \"C:\\Users\\OC\\.conda\\envs\\cv\\Lib\\site-packages\\gdown\\cached_download.py\", line 12, in <module>\n",
            "    from .download import download\n",
            "  File \"C:\\Users\\OC\\.conda\\envs\\cv\\Lib\\site-packages\\gdown\\download.py\", line 13, in <module>\n",
            "    import requests\n",
            "  File \"C:\\Users\\OC\\.conda\\envs\\cv\\Lib\\site-packages\\requests\\__init__.py\", line 45, in <module>\n",
            "    from .exceptions import RequestsDependencyWarning\n",
            "  File \"C:\\Users\\OC\\.conda\\envs\\cv\\Lib\\site-packages\\requests\\exceptions.py\", line 9, in <module>\n",
            "    from .compat import JSONDecodeError as CompatJSONDecodeError\n",
            "  File \"C:\\Users\\OC\\.conda\\envs\\cv\\Lib\\site-packages\\requests\\compat.py\", line 13, in <module>\n",
            "    import charset_normalizer as chardet\n",
            "  File \"C:\\Users\\OC\\.conda\\envs\\cv\\Lib\\site-packages\\charset_normalizer\\__init__.py\", line 23, in <module>\n",
            "    from charset_normalizer.api import from_fp, from_path, from_bytes, normalize\n",
            "  File \"C:\\Users\\OC\\.conda\\envs\\cv\\Lib\\site-packages\\charset_normalizer\\api.py\", line 10, in <module>\n",
            "    from charset_normalizer.md import mess_ratio\n",
            "AttributeError: partially initialized module 'charset_normalizer' has no attribute 'md__mypyc' (most likely due to a circular import)\n"
          ]
        }
      ],
      "source": [
        "# from google.colab import drive\n",
        "# drive.mount('/content/drive')\n",
        "!gdown --id 1PdWkZe8Vt6xdsTj8KeqxhAd5Tmx4pyNh"
      ]
    },
    {
      "cell_type": "code",
      "execution_count": 4,
      "metadata": {
        "id": "PIsA3vrI4pGa",
        "outputId": "cf44373e-9f12-4e0d-dcbc-6b0ce1815352"
      },
      "outputs": [
        {
          "name": "stderr",
          "output_type": "stream",
          "text": [
            "The syntax of the command is incorrect.\n"
          ]
        }
      ],
      "source": [
        "!unzip /content/wb_recognition_dataset.zip &> /dev/null"
      ]
    },
    {
      "cell_type": "code",
      "execution_count": 5,
      "metadata": {
        "id": "3qmeuzbGXSg_"
      },
      "outputs": [],
      "source": [
        "cnv_local_dir = 'wb_recognition_dataset/wb_recognition_dataset'\n",
        "colab_dir = '/content/wb_recognition_dataset'\n",
        "dataset_dir = cnv_local_dir\n",
        "train_dataset_dir = dataset_dir + '/train'\n",
        "val_dataset_dir = dataset_dir + '/val'\n",
        "val_dataset_img_dir = val_dataset_dir + '/images'\n",
        "annotations_file_dir = val_dataset_dir + '/labels.csv'\n"
      ]
    },
    {
      "cell_type": "code",
      "execution_count": 6,
      "metadata": {
        "colab": {
          "base_uri": "https://localhost:8080/"
        },
        "id": "PxwQ6S9sWUe9",
        "outputId": "fbcf5af7-f760-4268-c7f1-b235e6dc05da"
      },
      "outputs": [
        {
          "name": "stdout",
          "output_type": "stream",
          "text": [
            "['0', '1', '10', '100', '1000', '1001', '1002', '1003', '1004', '1005', '1006', '1007', '1008', '1009', '101', '1010', '1011', '1012', '1013', '1014', '1015', '1016', '1017', '1018', '1019', '102', '1020', '1021', '1022', '1023', '1024', '1025', '1026', '1027', '1028', '1029', '103', '1030', '1031', '1032', '1033', '1034', '1035', '1036', '1037', '1038', '1039', '104', '1040', '1041', '1042', '1043', '1044', '1045', '1046', '1047', '1048', '1049', '105', '1050', '1051', '1052', '1053', '1054', '1055', '1056', '1057', '1058', '1059', '106', '1060', '1061', '1062', '1063', '1064', '1065', '1066', '1067', '1068', '1069', '107', '1070', '1071', '1072', '1073', '1074', '1075', '1076', '1077', '1078', '1079', '108', '1080', '1081', '1082', '1083', '1084', '1085', '1086', '1087', '1088', '1089', '109', '1090', '1091', '1092', '1093', '1094', '1095', '1096', '1097', '1098', '1099', '11', '110', '1100', '1101', '1102', '1103', '1104', '1105', '1106', '1107', '1108', '1109', '111', '1110', '1111', '1112', '1113', '1114', '1115', '1116', '1117', '1118', '1119', '112', '1120', '1121', '1122', '1123', '1124', '1125', '1126', '1127', '1128', '1129', '113', '1130', '1131', '1132', '1133', '1134', '1135', '1136', '1137', '1138', '1139', '114', '1140', '1141', '1142', '1143', '1144', '1145', '1146', '1147', '1148', '1149', '115', '1150', '1151', '1152', '1153', '1154', '1155', '1156', '1157', '1158', '1159', '116', '1160', '1161', '1162', '1163', '1164', '1165', '1166', '1167', '1168', '1169', '117', '1170', '1171', '1172', '1173', '1174', '1175', '1176', '1177', '1178', '1179', '118', '1180', '1181', '1182', '1183', '1184', '1185', '1186', '1187', '1188', '1189', '119', '1190', '1191', '1192', '1193', '1194', '1195', '1196', '1197', '1198', '1199', '12', '120', '1200', '1201', '1202', '1203', '1204', '1205', '1206', '1207', '1208', '1209', '121', '1210', '1211', '1212', '1213', '1214', '1215', '1216', '1217', '1218', '1219', '122', '1220', '1221', '1222', '1223', '1224', '1225', '1226', '1227', '1228', '1229', '123', '1230', '1231', '1232', '1233', '1234', '1235', '1236', '1237', '1238', '1239', '124', '1240', '1241', '1242', '1243', '1244', '1245', '1246', '1247', '1248', '1249', '125', '1250', '1251', '1252', '1253', '1254', '1255', '1256', '1257', '1258', '1259', '126', '1260', '1261', '1262', '1263', '1264', '1265', '1266', '1267', '1268', '1269', '127', '1270', '1271', '1272', '1273', '1274', '1275', '1276', '1277', '1278', '1279', '128', '1280', '1281', '1282', '1283', '1284', '1285', '1286', '1287', '1288', '1289', '129', '1290', '1291', '1292', '1293', '1294', '1295', '1296', '1297', '1298', '1299', '13', '130', '1300', '1301', '1302', '1303', '1304', '1305', '1306', '1307', '1308', '1309', '131', '1310', '1311', '1312', '1313', '1314', '1315', '1316', '1317', '1318', '1319', '132', '1320', '1321', '1322', '1323', '1324', '1325', '1326', '1327', '1328', '1329', '133', '1330', '1331', '1332', '1333', '1334', '1335', '1336', '1337', '1338', '1339', '134', '1340', '1341', '1342', '1343', '1344', '1345', '1346', '1347', '1348', '1349', '135', '1350', '1351', '1352', '1353', '1354', '1355', '1356', '1357', '1358', '1359', '136', '1360', '1361', '1362', '1363', '1364', '1365', '1366', '1367', '1368', '1369', '137', '1370', '1371', '1372', '1373', '1374', '1375', '1376', '1377', '1378', '1379', '138', '1380', '1381', '1382', '1383', '1384', '1385', '1386', '1387', '1388', '1389', '139', '1390', '1391', '1392', '1393', '1394', '1395', '1396', '1397', '1398', '1399', '14', '140', '1400', '1401', '1402', '1403', '1404', '1405', '1406', '1407', '1408', '1409', '141', '1410', '1411', '1412', '1413', '1414', '1415', '1416', '1417', '1418', '1419', '142', '1420', '1421', '1422', '1423', '1424', '1425', '1426', '1427', '1428', '1429', '143', '1430', '1431', '1432', '1433', '1434', '1435', '1436', '1437', '1438', '1439', '144', '1440', '1441', '1442', '1443', '1444', '1445', '1446', '1447', '1448', '1449', '145', '1450', '1451', '1452', '1453', '1454', '1455', '1456', '1457', '1458', '1459', '146', '1460', '1461', '1462', '1463', '1464', '1465', '1466', '1467', '1468', '1469', '147', '1470', '1471', '1472', '1473', '1474', '1475', '1476', '1477', '1478', '1479', '148', '1480', '1481', '1482', '1483', '1484', '1485', '1486', '1487', '1488', '1489', '149', '1490', '1491', '1492', '1493', '1494', '1495', '1496', '1497', '1498', '1499', '15', '150', '1500', '1501', '1502', '1503', '1504', '1505', '1506', '1507', '1508', '1509', '151', '1510', '1511', '1512', '1513', '1514', '1515', '1516', '1517', '1518', '1519', '152', '1520', '1521', '1522', '1523', '1524', '1525', '1526', '1527', '1528', '1529', '153', '1530', '1531', '1532', '1533', '1534', '1535', '1536', '1537', '1538', '1539', '154', '1540', '1541', '1542', '1543', '1544', '1545', '1546', '1547', '1548', '1549', '155', '1550', '1551', '1552', '1553', '1554', '1555', '1556', '1557', '1558', '1559', '156', '1560', '1561', '1562', '1563', '1564', '1565', '1566', '1567', '1568', '1569', '157', '1570', '1571', '1572', '1573', '1574', '1575', '1576', '1577', '1578', '1579', '158', '1580', '1581', '1582', '1583', '1584', '1585', '1586', '1587', '1588', '1589', '159', '1590', '1591', '1592', '1593', '1594', '1595', '1596', '1597', '1598', '1599', '16', '160', '1600', '1601', '1602', '1603', '1604', '1605', '1606', '1607', '1608', '1609', '161', '1610', '1611', '1612', '1613', '1614', '1615', '1616', '1617', '1618', '1619', '162', '1620', '1621', '1622', '1623', '1624', '1625', '1626', '1627', '1628', '1629', '163', '1630', '1631', '1632', '1633', '1634', '1635', '1636', '1637', '1638', '1639', '164', '1640', '1641', '1642', '1643', '1644', '1645', '1646', '1647', '1648', '1649', '165', '1650', '1651', '1652', '1653', '1654', '1655', '1656', '1657', '1658', '1659', '166', '1660', '1661', '1662', '1663', '1664', '1665', '1666', '1667', '1668', '1669', '167', '1670', '1671', '1672', '1673', '1674', '1675', '1676', '1677', '1678', '1679', '168', '1680', '1681', '1682', '1683', '1684', '1685', '1686', '1687', '1688', '1689', '169', '1690', '1691', '1692', '1693', '1694', '1695', '1696', '1697', '1698', '1699', '17', '170', '1700', '1701', '1702', '1703', '1704', '1705', '1706', '1707', '1708', '1709', '171', '1710', '1711', '1712', '1713', '1714', '1715', '1716', '1717', '1718', '1719', '172', '1720', '1721', '1722', '1723', '1724', '1725', '1726', '1727', '1728', '1729', '173', '1730', '1731', '1732', '1733', '1734', '1735', '1736', '1737', '1738', '1739', '174', '1740', '1741', '1742', '1743', '1744', '1745', '1746', '1747', '1748', '1749', '175', '1750', '1751', '1752', '1753', '1754', '1755', '1756', '1757', '1758', '1759', '176', '1760', '1761', '1762', '1763', '1764', '1765', '1766', '1767', '1768', '1769', '177', '1770', '1771', '1772', '1773', '1774', '1775', '1776', '1777', '1778', '1779', '178', '1780', '1781', '1782', '1783', '1784', '1785', '1786', '1787', '1788', '1789', '179', '1790', '1791', '1792', '1793', '1794', '1795', '1796', '1797', '1798', '1799', '18', '180', '1800', '1801', '1802', '1803', '1804', '1805', '1806', '1807', '1808', '1809', '181', '1810', '1811', '1812', '1813', '1814', '1815', '1816', '1817', '1818', '1819', '182', '1820', '1821', '1822', '1823', '1824', '1825', '1826', '1827', '1828', '1829', '183', '1830', '1831', '1832', '1833', '1834', '1835', '1836', '1837', '1838', '1839', '184', '1840', '1841', '1842', '1843', '1844', '1845', '1846', '1847', '1848', '1849', '185', '1850', '1851', '1852', '1853', '1854', '1855', '1856', '1857', '1858', '1859', '186', '1860', '1861', '1862', '1863', '1864', '1865', '1866', '1867', '1868', '1869', '187', '1870', '1871', '1872', '1873', '1874', '1875', '1876', '1877', '1878', '1879', '188', '1880', '1881', '1882', '1883', '1884', '1885', '1886', '1887', '1888', '1889', '189', '1890', '1891', '1892', '1893', '1894', '1895', '1896', '1897', '1898', '1899', '19', '190', '1900', '1901', '1902', '1903', '1904', '1905', '1906', '1907', '1908', '1909', '191', '1910', '1911', '1912', '1913', '1914', '1915', '1916', '1917', '1918', '1919', '192', '1920', '1921', '1922', '1923', '1924', '1925', '1926', '1927', '1928', '1929', '193', '1930', '1931', '1932', '1933', '1934', '1935', '1936', '1937', '1938', '1939', '194', '1940', '1941', '1942', '1943', '1944', '1945', '1946', '1947', '1948', '1949', '195', '1950', '1951', '1952', '1953', '1954', '1955', '1956', '1957', '1958', '1959', '196', '1960', '1961', '1962', '1963', '1964', '1965', '1966', '1967', '1968', '1969', '197', '1970', '1971', '1972', '1973', '1974', '1975', '1976', '1977', '1978', '1979', '198', '1980', '1981', '1982', '1983', '1984', '1985', '1986', '1987', '1988', '1989', '199', '1990', '1991', '1992', '1993', '1994', '1995', '1996', '1997', '1998', '1999', '2', '20', '200', '2000', '2001', '2002', '2003', '2004', '2005', '2006', '2007', '2008', '2009', '201', '2010', '2011', '2012', '2013', '2014', '2015', '2016', '2017', '2018', '2019', '202', '2020', '2021', '2022', '2023', '2024', '2025', '2026', '2027', '2028', '2029', '203', '2030', '2031', '2032', '2033', '2034', '2035', '2036', '2037', '2038', '2039', '204', '2040', '2041', '2042', '2043', '2044', '2045', '2046', '2047', '2048', '2049', '205', '2050', '2051', '2052', '2053', '2054', '2055', '2056', '2057', '2058', '2059', '206', '2060', '2061', '2062', '2063', '2064', '2065', '2066', '2067', '2068', '2069', '207', '2070', '2071', '2072', '2073', '2074', '2075', '2076', '2077', '2078', '2079', '208', '2080', '2081', '2082', '2083', '2084', '2085', '2086', '2087', '2088', '2089', '209', '2090', '2091', '2092', '2093', '2094', '2095', '2096', '2097', '2098', '2099', '21', '210', '2100', '2101', '2102', '2103', '2104', '2105', '2106', '2107', '2108', '2109', '211', '2110', '2111', '2112', '2113', '2114', '2115', '2116', '2117', '2118', '2119', '212', '2120', '2121', '2122', '2123', '2124', '2125', '2126', '2127', '2128', '2129', '213', '2130', '2131', '2132', '2133', '2134', '2135', '2136', '2137', '2138', '214', '215', '216', '217', '218', '219', '22', '220', '221', '222', '223', '224', '225', '226', '227', '228', '229', '23', '230', '231', '232', '233', '234', '235', '236', '237', '238', '239', '24', '240', '241', '242', '243', '244', '245', '246', '247', '248', '249', '25', '250', '251', '252', '253', '254', '255', '256', '257', '258', '259', '26', '260', '261', '262', '263', '264', '265', '266', '267', '268', '269', '27', '270', '271', '272', '273', '274', '275', '276', '277', '278', '279', '28', '280', '281', '282', '283', '284', '285', '286', '287', '288', '289', '29', '290', '291', '292', '293', '294', '295', '296', '297', '298', '299', '3', '30', '300', '301', '302', '303', '304', '305', '306', '307', '308', '309', '31', '310', '311', '312', '313', '314', '315', '316', '317', '318', '319', '32', '320', '321', '322', '323', '324', '325', '326', '327', '328', '329', '33', '330', '331', '332', '333', '334', '335', '336', '337', '338', '339', '34', '340', '341', '342', '343', '344', '345', '346', '347', '348', '349', '35', '350', '351', '352', '353', '354', '355', '356', '357', '358', '359', '36', '360', '361', '362', '363', '364', '365', '366', '367', '368', '369', '37', '370', '371', '372', '373', '374', '375', '376', '377', '378', '379', '38', '380', '381', '382', '383', '384', '385', '386', '387', '388', '389', '39', '390', '391', '392', '393', '394', '395', '396', '397', '398', '399', '4', '40', '400', '401', '402', '403', '404', '405', '406', '407', '408', '409', '41', '410', '411', '412', '413', '414', '415', '416', '417', '418', '419', '42', '420', '421', '422', '423', '424', '425', '426', '427', '428', '429', '43', '430', '431', '432', '433', '434', '435', '436', '437', '438', '439', '44', '440', '441', '442', '443', '444', '445', '446', '447', '448', '449', '45', '450', '451', '452', '453', '454', '455', '456', '457', '458', '459', '46', '460', '461', '462', '463', '464', '465', '466', '467', '468', '469', '47', '470', '471', '472', '473', '474', '475', '476', '477', '478', '479', '48', '480', '481', '482', '483', '484', '485', '486', '487', '488', '489', '49', '490', '491', '492', '493', '494', '495', '496', '497', '498', '499', '5', '50', '500', '501', '502', '503', '504', '505', '506', '507', '508', '509', '51', '510', '511', '512', '513', '514', '515', '516', '517', '518', '519', '52', '520', '521', '522', '523', '524', '525', '526', '527', '528', '529', '53', '530', '531', '532', '533', '534', '535', '536', '537', '538', '539', '54', '540', '541', '542', '543', '544', '545', '546', '547', '548', '549', '55', '550', '551', '552', '553', '554', '555', '556', '557', '558', '559', '56', '560', '561', '562', '563', '564', '565', '566', '567', '568', '569', '57', '570', '571', '572', '573', '574', '575', '576', '577', '578', '579', '58', '580', '581', '582', '583', '584', '585', '586', '587', '588', '589', '59', '590', '591', '592', '593', '594', '595', '596', '597', '598', '599', '6', '60', '600', '601', '602', '603', '604', '605', '606', '607', '608', '609', '61', '610', '611', '612', '613', '614', '615', '616', '617', '618', '619', '62', '620', '621', '622', '623', '624', '625', '626', '627', '628', '629', '63', '630', '631', '632', '633', '634', '635', '636', '637', '638', '639', '64', '640', '641', '642', '643', '644', '645', '646', '647', '648', '649', '65', '650', '651', '652', '653', '654', '655', '656', '657', '658', '659', '66', '660', '661', '662', '663', '664', '665', '666', '667', '668', '669', '67', '670', '671', '672', '673', '674', '675', '676', '677', '678', '679', '68', '680', '681', '682', '683', '684', '685', '686', '687', '688', '689', '69', '690', '691', '692', '693', '694', '695', '696', '697', '698', '699', '7', '70', '700', '701', '702', '703', '704', '705', '706', '707', '708', '709', '71', '710', '711', '712', '713', '714', '715', '716', '717', '718', '719', '72', '720', '721', '722', '723', '724', '725', '726', '727', '728', '729', '73', '730', '731', '732', '733', '734', '735', '736', '737', '738', '739', '74', '740', '741', '742', '743', '744', '745', '746', '747', '748', '749', '75', '750', '751', '752', '753', '754', '755', '756', '757', '758', '759', '76', '760', '761', '762', '763', '764', '765', '766', '767', '768', '769', '77', '770', '771', '772', '773', '774', '775', '776', '777', '778', '779', '78', '780', '781', '782', '783', '784', '785', '786', '787', '788', '789', '79', '790', '791', '792', '793', '794', '795', '796', '797', '798', '799', '8', '80', '800', '801', '802', '803', '804', '805', '806', '807', '808', '809', '81', '810', '811', '812', '813', '814', '815', '816', '817', '818', '819', '82', '820', '821', '822', '823', '824', '825', '826', '827', '828', '829', '83', '830', '831', '832', '833', '834', '835', '836', '837', '838', '839', '84', '840', '841', '842', '843', '844', '845', '846', '847', '848', '849', '85', '850', '851', '852', '853', '854', '855', '856', '857', '858', '859', '86', '860', '861', '862', '863', '864', '865', '866', '867', '868', '869', '87', '870', '871', '872', '873', '874', '875', '876', '877', '878', '879', '88', '880', '881', '882', '883', '884', '885', '886', '887', '888', '889', '89', '890', '891', '892', '893', '894', '895', '896', '897', '898', '899', '9', '90', '900', '901', '902', '903', '904', '905', '906', '907', '908', '909', '91', '910', '911', '912', '913', '914', '915', '916', '917', '918', '919', '92', '920', '921', '922', '923', '924', '925', '926', '927', '928', '929', '93', '930', '931', '932', '933', '934', '935', '936', '937', '938', '939', '94', '940', '941', '942', '943', '944', '945', '946', '947', '948', '949', '95', '950', '951', '952', '953', '954', '955', '956', '957', '958', '959', '96', '960', '961', '962', '963', '964', '965', '966', '967', '968', '969', '97', '970', '971', '972', '973', '974', '975', '976', '977', '978', '979', '98', '980', '981', '982', '983', '984', '985', '986', '987', '988', '989', '99', '990', '991', '992', '993', '994', '995', '996', '997', '998', '999']\n"
          ]
        }
      ],
      "source": [
        "# %cd train_dataset\n",
        "image_folders = os.listdir(train_dataset_dir)\n",
        "print(image_folders)"
      ]
    },
    {
      "cell_type": "code",
      "execution_count": 7,
      "metadata": {},
      "outputs": [
        {
          "name": "stdout",
          "output_type": "stream",
          "text": [
            "2139\n",
            "999\n"
          ]
        }
      ],
      "source": [
        "print(len(image_folders))\n",
        "print(max(image_folders))"
      ]
    },
    {
      "cell_type": "markdown",
      "metadata": {
        "id": "k2d_B_8_7lwI"
      },
      "source": [
        "### Data Pre-processing"
      ]
    },
    {
      "cell_type": "code",
      "execution_count": 8,
      "metadata": {
        "id": "E-NzPisQN6XQ"
      },
      "outputs": [],
      "source": [
        "\n",
        "train_transform = transforms.Compose([\n",
        "    transforms.Resize((32, 32)),  # Resize to 32x32\n",
        "    transforms.Grayscale(num_output_channels=1),  # Convert to grayscale if needed\n",
        "    transforms.ToTensor(),  # Convert image to tensor\n",
        "    transforms.Normalize(mean=[0.5], std=[0.5])  # Normalize the image\n",
        "])\n",
        "\n",
        "test_transform = transforms.Compose([\n",
        "    transforms.Resize((32, 32)),  # Resize to 32x32 if needed\n",
        "    transforms.ToTensor(),  # Convert image to tensor\n",
        "    transforms.Normalize(mean=[0.5], std=[0.5])  # Normalize the image\n",
        "])\n",
        "\n",
        "alexnet_transform = transforms.Compose([\n",
        "    transforms.Resize((227,227)),                  # Resize the image to 256x256\n",
        "    # transforms.CenterCrop(224),\n",
        "    transforms.Grayscale(num_output_channels=3),              # Perform a center crop to obtain a square 224x224 image\n",
        "    transforms.ToTensor(),                   # Convert the image to a PyTorch tensor\n",
        "    transforms.Normalize(mean=[0.485, 0.456, 0.406], std=[0.229, 0.224, 0.225])  # Normalize the image\n",
        "])\n",
        "\n",
        "basic_minist = transforms.Compose([\n",
        "    transforms.Resize((28, 28)),  # Resize to 32x32\n",
        "    transforms.Grayscale(num_output_channels=1),  # Convert to grayscale if needed\n",
        "    transforms.ToTensor(),  # Convert image to tensor\n",
        "    transforms.Normalize(mean=[0.5], std=[0.5])  # Normalize the image\n",
        "])\n",
        "\n",
        "sameSize_transform = transforms.Compose([\n",
        "    transforms.ToTensor()\n",
        "])\n"
      ]
    },
    {
      "cell_type": "markdown",
      "metadata": {
        "id": "oHNQ3SB6GA0Y"
      },
      "source": [
        "### Load Train and Valid data from directory"
      ]
    },
    {
      "cell_type": "code",
      "execution_count": 31,
      "metadata": {
        "id": "eH5GPGia4fbt"
      },
      "outputs": [],
      "source": [
        "class CustomImageDataset(Dataset):\n",
        "    def __init__(self, annotations_file, img_dir, transform=None, target_transform=None):\n",
        "        self.img_labels = pd.read_csv(annotations_file)\n",
        "        self.img_dir = img_dir\n",
        "        self.transform = transform\n",
        "        self.target_transform = target_transform\n",
        "        self.classes = self.img_labels.iloc[:, 1].unique().tolist()\n",
        "        self.targets = self.img_labels.iloc[:, 1].tolist()\n",
        "        # self.data = [os.path.join(self.img_dir, img) for img in self.img_labels.iloc[:, 0].tolist()]\n",
        "\n",
        "    def __len__(self):\n",
        "        return len(self.img_labels)\n",
        "\n",
        "    def __getitem__(self, idx):\n",
        "        img_name = str(self.img_labels.iloc[idx, 0]) + \".jpg\"\n",
        "        img_path = os.path.join(self.img_dir, img_name)\n",
        "        image = Image.open(img_path).convert('RGB')\n",
        "        label = self.img_labels.iloc[idx, 1]\n",
        "        if self.transform:\n",
        "            image = self.transform(image)\n",
        "        if self.target_transform:\n",
        "            label = self.target_transform(label)\n",
        "        return image, label\n",
        "    "
      ]
    },
    {
      "cell_type": "markdown",
      "metadata": {},
      "source": [
        "#### Sample Data (MINIST)"
      ]
    },
    {
      "cell_type": "code",
      "execution_count": 10,
      "metadata": {},
      "outputs": [],
      "source": [
        "mnist_transform = sameSize_transform\n",
        "\n",
        "mnist_train = datasets.MNIST(\n",
        "    root = 'data',\n",
        "    train = True,\n",
        "    transform = mnist_transform,\n",
        "    download = True\n",
        ")\n",
        "\n",
        "mnist_test = datasets.MNIST(\n",
        "    root = 'data',\n",
        "    train = False,\n",
        "    transform = mnist_transform,\n",
        "    download = True\n",
        ")"
      ]
    },
    {
      "cell_type": "code",
      "execution_count": 11,
      "metadata": {},
      "outputs": [
        {
          "data": {
            "text/plain": [
              "Dataset MNIST\n",
              "    Number of datapoints: 10000\n",
              "    Root location: data\n",
              "    Split: Test\n",
              "    StandardTransform\n",
              "Transform: Compose(\n",
              "               ToTensor()\n",
              "           )"
            ]
          },
          "execution_count": 11,
          "metadata": {},
          "output_type": "execute_result"
        }
      ],
      "source": [
        "mnist_test"
      ]
    },
    {
      "cell_type": "code",
      "execution_count": 33,
      "metadata": {
        "id": "yqfGKz3nDdag"
      },
      "outputs": [
        {
          "ename": "FileNotFoundError",
          "evalue": "Found no valid file for the classes 1131, 1212, 1221, 1376, 1632, 1785, 1854, 509, 643. Supported extensions are: .jpg, .jpeg, .png, .ppm, .bmp, .pgm, .tif, .tiff, .webp",
          "output_type": "error",
          "traceback": [
            "\u001b[1;31m---------------------------------------------------------------------------\u001b[0m",
            "\u001b[1;31mFileNotFoundError\u001b[0m                         Traceback (most recent call last)",
            "Cell \u001b[1;32mIn[33], line 7\u001b[0m\n\u001b[0;32m      1\u001b[0m chosen_transform \u001b[38;5;241m=\u001b[39m basic_minist\n\u001b[0;32m      3\u001b[0m \u001b[38;5;66;03m# train_dataset = CustomImageFolder(\u001b[39;00m\n\u001b[0;32m      4\u001b[0m \u001b[38;5;66;03m#     root=train_dataset_dir, \u001b[39;00m\n\u001b[0;32m      5\u001b[0m \u001b[38;5;66;03m#     transform=chosen_transform)\u001b[39;00m\n\u001b[1;32m----> 7\u001b[0m train_dataset \u001b[38;5;241m=\u001b[39m \u001b[43mdatasets\u001b[49m\u001b[38;5;241;43m.\u001b[39;49m\u001b[43mImageFolder\u001b[49m\u001b[43m(\u001b[49m\n\u001b[0;32m      8\u001b[0m \u001b[43m    \u001b[49m\u001b[43mroot\u001b[49m\u001b[38;5;241;43m=\u001b[39;49m\u001b[43mtrain_dataset_dir\u001b[49m\u001b[43m,\u001b[49m\u001b[43m \u001b[49m\n\u001b[0;32m      9\u001b[0m \u001b[43m    \u001b[49m\u001b[43mtransform\u001b[49m\u001b[38;5;241;43m=\u001b[39;49m\u001b[43mchosen_transform\u001b[49m\u001b[43m)\u001b[49m\n\u001b[0;32m     11\u001b[0m valid_dataset \u001b[38;5;241m=\u001b[39m CustomImageDataset(\n\u001b[0;32m     12\u001b[0m     annotations_file \u001b[38;5;241m=\u001b[39m annotations_file_dir,\n\u001b[0;32m     13\u001b[0m     img_dir \u001b[38;5;241m=\u001b[39m val_dataset_img_dir,\n\u001b[0;32m     14\u001b[0m     transform \u001b[38;5;241m=\u001b[39m chosen_transform\n\u001b[0;32m     15\u001b[0m     )\n",
            "File \u001b[1;32mc:\\Users\\OC\\.conda\\envs\\cv\\Lib\\site-packages\\torchvision\\datasets\\folder.py:309\u001b[0m, in \u001b[0;36mImageFolder.__init__\u001b[1;34m(self, root, transform, target_transform, loader, is_valid_file)\u001b[0m\n\u001b[0;32m    301\u001b[0m \u001b[38;5;28;01mdef\u001b[39;00m \u001b[38;5;21m__init__\u001b[39m(\n\u001b[0;32m    302\u001b[0m     \u001b[38;5;28mself\u001b[39m,\n\u001b[0;32m    303\u001b[0m     root: \u001b[38;5;28mstr\u001b[39m,\n\u001b[1;32m   (...)\u001b[0m\n\u001b[0;32m    307\u001b[0m     is_valid_file: Optional[Callable[[\u001b[38;5;28mstr\u001b[39m], \u001b[38;5;28mbool\u001b[39m]] \u001b[38;5;241m=\u001b[39m \u001b[38;5;28;01mNone\u001b[39;00m,\n\u001b[0;32m    308\u001b[0m ):\n\u001b[1;32m--> 309\u001b[0m     \u001b[38;5;28;43msuper\u001b[39;49m\u001b[43m(\u001b[49m\u001b[43m)\u001b[49m\u001b[38;5;241;43m.\u001b[39;49m\u001b[38;5;21;43m__init__\u001b[39;49m\u001b[43m(\u001b[49m\n\u001b[0;32m    310\u001b[0m \u001b[43m        \u001b[49m\u001b[43mroot\u001b[49m\u001b[43m,\u001b[49m\n\u001b[0;32m    311\u001b[0m \u001b[43m        \u001b[49m\u001b[43mloader\u001b[49m\u001b[43m,\u001b[49m\n\u001b[0;32m    312\u001b[0m \u001b[43m        \u001b[49m\u001b[43mIMG_EXTENSIONS\u001b[49m\u001b[43m \u001b[49m\u001b[38;5;28;43;01mif\u001b[39;49;00m\u001b[43m \u001b[49m\u001b[43mis_valid_file\u001b[49m\u001b[43m \u001b[49m\u001b[38;5;129;43;01mis\u001b[39;49;00m\u001b[43m \u001b[49m\u001b[38;5;28;43;01mNone\u001b[39;49;00m\u001b[43m \u001b[49m\u001b[38;5;28;43;01melse\u001b[39;49;00m\u001b[43m \u001b[49m\u001b[38;5;28;43;01mNone\u001b[39;49;00m\u001b[43m,\u001b[49m\n\u001b[0;32m    313\u001b[0m \u001b[43m        \u001b[49m\u001b[43mtransform\u001b[49m\u001b[38;5;241;43m=\u001b[39;49m\u001b[43mtransform\u001b[49m\u001b[43m,\u001b[49m\n\u001b[0;32m    314\u001b[0m \u001b[43m        \u001b[49m\u001b[43mtarget_transform\u001b[49m\u001b[38;5;241;43m=\u001b[39;49m\u001b[43mtarget_transform\u001b[49m\u001b[43m,\u001b[49m\n\u001b[0;32m    315\u001b[0m \u001b[43m        \u001b[49m\u001b[43mis_valid_file\u001b[49m\u001b[38;5;241;43m=\u001b[39;49m\u001b[43mis_valid_file\u001b[49m\u001b[43m,\u001b[49m\n\u001b[0;32m    316\u001b[0m \u001b[43m    \u001b[49m\u001b[43m)\u001b[49m\n\u001b[0;32m    317\u001b[0m     \u001b[38;5;28mself\u001b[39m\u001b[38;5;241m.\u001b[39mimgs \u001b[38;5;241m=\u001b[39m \u001b[38;5;28mself\u001b[39m\u001b[38;5;241m.\u001b[39msamples\n",
            "File \u001b[1;32mc:\\Users\\OC\\.conda\\envs\\cv\\Lib\\site-packages\\torchvision\\datasets\\folder.py:145\u001b[0m, in \u001b[0;36mDatasetFolder.__init__\u001b[1;34m(self, root, loader, extensions, transform, target_transform, is_valid_file)\u001b[0m\n\u001b[0;32m    143\u001b[0m \u001b[38;5;28msuper\u001b[39m()\u001b[38;5;241m.\u001b[39m\u001b[38;5;21m__init__\u001b[39m(root, transform\u001b[38;5;241m=\u001b[39mtransform, target_transform\u001b[38;5;241m=\u001b[39mtarget_transform)\n\u001b[0;32m    144\u001b[0m classes, class_to_idx \u001b[38;5;241m=\u001b[39m \u001b[38;5;28mself\u001b[39m\u001b[38;5;241m.\u001b[39mfind_classes(\u001b[38;5;28mself\u001b[39m\u001b[38;5;241m.\u001b[39mroot)\n\u001b[1;32m--> 145\u001b[0m samples \u001b[38;5;241m=\u001b[39m \u001b[38;5;28;43mself\u001b[39;49m\u001b[38;5;241;43m.\u001b[39;49m\u001b[43mmake_dataset\u001b[49m\u001b[43m(\u001b[49m\u001b[38;5;28;43mself\u001b[39;49m\u001b[38;5;241;43m.\u001b[39;49m\u001b[43mroot\u001b[49m\u001b[43m,\u001b[49m\u001b[43m \u001b[49m\u001b[43mclass_to_idx\u001b[49m\u001b[43m,\u001b[49m\u001b[43m \u001b[49m\u001b[43mextensions\u001b[49m\u001b[43m,\u001b[49m\u001b[43m \u001b[49m\u001b[43mis_valid_file\u001b[49m\u001b[43m)\u001b[49m\n\u001b[0;32m    147\u001b[0m \u001b[38;5;28mself\u001b[39m\u001b[38;5;241m.\u001b[39mloader \u001b[38;5;241m=\u001b[39m loader\n\u001b[0;32m    148\u001b[0m \u001b[38;5;28mself\u001b[39m\u001b[38;5;241m.\u001b[39mextensions \u001b[38;5;241m=\u001b[39m extensions\n",
            "File \u001b[1;32mc:\\Users\\OC\\.conda\\envs\\cv\\Lib\\site-packages\\torchvision\\datasets\\folder.py:189\u001b[0m, in \u001b[0;36mDatasetFolder.make_dataset\u001b[1;34m(directory, class_to_idx, extensions, is_valid_file)\u001b[0m\n\u001b[0;32m    184\u001b[0m \u001b[38;5;28;01mif\u001b[39;00m class_to_idx \u001b[38;5;129;01mis\u001b[39;00m \u001b[38;5;28;01mNone\u001b[39;00m:\n\u001b[0;32m    185\u001b[0m     \u001b[38;5;66;03m# prevent potential bug since make_dataset() would use the class_to_idx logic of the\u001b[39;00m\n\u001b[0;32m    186\u001b[0m     \u001b[38;5;66;03m# find_classes() function, instead of using that of the find_classes() method, which\u001b[39;00m\n\u001b[0;32m    187\u001b[0m     \u001b[38;5;66;03m# is potentially overridden and thus could have a different logic.\u001b[39;00m\n\u001b[0;32m    188\u001b[0m     \u001b[38;5;28;01mraise\u001b[39;00m \u001b[38;5;167;01mValueError\u001b[39;00m(\u001b[38;5;124m\"\u001b[39m\u001b[38;5;124mThe class_to_idx parameter cannot be None.\u001b[39m\u001b[38;5;124m\"\u001b[39m)\n\u001b[1;32m--> 189\u001b[0m \u001b[38;5;28;01mreturn\u001b[39;00m \u001b[43mmake_dataset\u001b[49m\u001b[43m(\u001b[49m\u001b[43mdirectory\u001b[49m\u001b[43m,\u001b[49m\u001b[43m \u001b[49m\u001b[43mclass_to_idx\u001b[49m\u001b[43m,\u001b[49m\u001b[43m \u001b[49m\u001b[43mextensions\u001b[49m\u001b[38;5;241;43m=\u001b[39;49m\u001b[43mextensions\u001b[49m\u001b[43m,\u001b[49m\u001b[43m \u001b[49m\u001b[43mis_valid_file\u001b[49m\u001b[38;5;241;43m=\u001b[39;49m\u001b[43mis_valid_file\u001b[49m\u001b[43m)\u001b[49m\n",
            "File \u001b[1;32mc:\\Users\\OC\\.conda\\envs\\cv\\Lib\\site-packages\\torchvision\\datasets\\folder.py:102\u001b[0m, in \u001b[0;36mmake_dataset\u001b[1;34m(directory, class_to_idx, extensions, is_valid_file)\u001b[0m\n\u001b[0;32m    100\u001b[0m     \u001b[38;5;28;01mif\u001b[39;00m extensions \u001b[38;5;129;01mis\u001b[39;00m \u001b[38;5;129;01mnot\u001b[39;00m \u001b[38;5;28;01mNone\u001b[39;00m:\n\u001b[0;32m    101\u001b[0m         msg \u001b[38;5;241m+\u001b[39m\u001b[38;5;241m=\u001b[39m \u001b[38;5;124mf\u001b[39m\u001b[38;5;124m\"\u001b[39m\u001b[38;5;124mSupported extensions are: \u001b[39m\u001b[38;5;132;01m{\u001b[39;00mextensions\u001b[38;5;250m \u001b[39m\u001b[38;5;28;01mif\u001b[39;00m\u001b[38;5;250m \u001b[39m\u001b[38;5;28misinstance\u001b[39m(extensions,\u001b[38;5;250m \u001b[39m\u001b[38;5;28mstr\u001b[39m)\u001b[38;5;250m \u001b[39m\u001b[38;5;28;01melse\u001b[39;00m\u001b[38;5;250m \u001b[39m\u001b[38;5;124m'\u001b[39m\u001b[38;5;124m, \u001b[39m\u001b[38;5;124m'\u001b[39m\u001b[38;5;241m.\u001b[39mjoin(extensions)\u001b[38;5;132;01m}\u001b[39;00m\u001b[38;5;124m\"\u001b[39m\n\u001b[1;32m--> 102\u001b[0m     \u001b[38;5;28;01mraise\u001b[39;00m \u001b[38;5;167;01mFileNotFoundError\u001b[39;00m(msg)\n\u001b[0;32m    104\u001b[0m \u001b[38;5;28;01mreturn\u001b[39;00m instances\n",
            "\u001b[1;31mFileNotFoundError\u001b[0m: Found no valid file for the classes 1131, 1212, 1221, 1376, 1632, 1785, 1854, 509, 643. Supported extensions are: .jpg, .jpeg, .png, .ppm, .bmp, .pgm, .tif, .tiff, .webp"
          ]
        }
      ],
      "source": [
        "chosen_transform = basic_minist\n",
        "\n",
        "# train_dataset = CustomImageFolder(\n",
        "#     root=train_dataset_dir, \n",
        "#     transform=chosen_transform)\n",
        "\n",
        "train_dataset = datasets.ImageFolder(\n",
        "    root=train_dataset_dir, \n",
        "    transform=chosen_transform)\n",
        "\n",
        "valid_dataset = CustomImageDataset(\n",
        "    annotations_file = annotations_file_dir,\n",
        "    img_dir = val_dataset_img_dir,\n",
        "    transform = chosen_transform\n",
        "    )"
      ]
    },
    {
      "cell_type": "code",
      "execution_count": 32,
      "metadata": {},
      "outputs": [
        {
          "ename": "ValueError",
          "evalue": "invalid literal for int() with base 10: '0 - zero'",
          "output_type": "error",
          "traceback": [
            "\u001b[1;31m---------------------------------------------------------------------------\u001b[0m",
            "\u001b[1;31mValueError\u001b[0m                                Traceback (most recent call last)",
            "Cell \u001b[1;32mIn[32], line 8\u001b[0m\n\u001b[0;32m      5\u001b[0m     \u001b[38;5;28;01mreturn\u001b[39;00m missing_labels\n\u001b[0;32m      7\u001b[0m \u001b[38;5;66;03m# Example usage:\u001b[39;00m\n\u001b[1;32m----> 8\u001b[0m missing_labels \u001b[38;5;241m=\u001b[39m \u001b[43mfind_missing_labels\u001b[49m\u001b[43m(\u001b[49m\u001b[43mtrain_dataset\u001b[49m\u001b[43m)\u001b[49m\n\u001b[0;32m      9\u001b[0m \u001b[38;5;28mprint\u001b[39m(\u001b[38;5;124m\"\u001b[39m\u001b[38;5;124mMissing labels:\u001b[39m\u001b[38;5;124m\"\u001b[39m, missing_labels)\n",
            "Cell \u001b[1;32mIn[32], line 3\u001b[0m, in \u001b[0;36mfind_missing_labels\u001b[1;34m(dataset)\u001b[0m\n\u001b[0;32m      1\u001b[0m \u001b[38;5;28;01mdef\u001b[39;00m \u001b[38;5;21mfind_missing_labels\u001b[39m(dataset):\n\u001b[0;32m      2\u001b[0m     all_labels \u001b[38;5;241m=\u001b[39m \u001b[38;5;28mset\u001b[39m(\u001b[38;5;28mrange\u001b[39m(\u001b[38;5;28mlen\u001b[39m(dataset\u001b[38;5;241m.\u001b[39mclasses)))  \u001b[38;5;66;03m# Assuming labels are integers from 0 to num_classes-1\u001b[39;00m\n\u001b[1;32m----> 3\u001b[0m     present_labels \u001b[38;5;241m=\u001b[39m \u001b[38;5;28;43mset\u001b[39;49m\u001b[43m(\u001b[49m\u001b[38;5;28;43mmap\u001b[39;49m\u001b[43m(\u001b[49m\u001b[38;5;28;43mint\u001b[39;49m\u001b[43m,\u001b[49m\u001b[43m \u001b[49m\u001b[43mdataset\u001b[49m\u001b[38;5;241;43m.\u001b[39;49m\u001b[43mclasses\u001b[49m\u001b[43m)\u001b[49m\u001b[43m)\u001b[49m\n\u001b[0;32m      4\u001b[0m     missing_labels \u001b[38;5;241m=\u001b[39m all_labels \u001b[38;5;241m-\u001b[39m present_labels\n\u001b[0;32m      5\u001b[0m     \u001b[38;5;28;01mreturn\u001b[39;00m missing_labels\n",
            "\u001b[1;31mValueError\u001b[0m: invalid literal for int() with base 10: '0 - zero'"
          ]
        }
      ],
      "source": [
        "def find_missing_labels(dataset):\n",
        "    all_labels = set(range(len(dataset.classes)))  # Assuming labels are integers from 0 to num_classes-1\n",
        "    present_labels = set(map(int, dataset.classes))\n",
        "    missing_labels = all_labels - present_labels\n",
        "    return missing_labels\n",
        "\n",
        "# Example usage:\n",
        "missing_labels = find_missing_labels(train_dataset)\n",
        "print(\"Missing labels:\", missing_labels)"
      ]
    },
    {
      "cell_type": "code",
      "execution_count": 15,
      "metadata": {},
      "outputs": [],
      "source": [
        "train_dataset = mnist_train\n",
        "valid_dataset = mnist_test"
      ]
    },
    {
      "cell_type": "code",
      "execution_count": 16,
      "metadata": {
        "colab": {
          "base_uri": "https://localhost:8080/",
          "height": 504
        },
        "id": "9s627f_8J2Ne",
        "outputId": "3378b054-deae-4329-fd37-d63c8d3e86c8"
      },
      "outputs": [
        {
          "name": "stdout",
          "output_type": "stream",
          "text": [
            "Image shape: torch.Size([1, 28, 28])\n",
            "Label: 7\n"
          ]
        },
        {
          "data": {
            "text/plain": [
              "<matplotlib.image.AxesImage at 0x16fb5db1760>"
            ]
          },
          "execution_count": 16,
          "metadata": {},
          "output_type": "execute_result"
        },
        {
          "data": {
            "image/png": "[encoded data removed]",
            "text/plain": [
              "<Figure size 640x480 with 1 Axes>"
            ]
          },
          "metadata": {},
          "output_type": "display_data"
        }
      ],
      "source": [
        "testing_sample_set = valid_dataset\n",
        "testing_sample_set[0]\n",
        "# Accessing a single sample\n",
        "sample_image, sample_label = testing_sample_set[0]\n",
        "print(\"Image shape:\", sample_image.shape)      # Shape of the image tensor\n",
        "print(\"Label:\", sample_label)\n",
        "plt.imshow(testing_sample_set[5][0].permute(1, 2, 0), cmap='gray')"
      ]
    },
    {
      "cell_type": "markdown",
      "metadata": {
        "id": "3-ES6QCcyW_f"
      },
      "source": [
        "#### DataLoader\n"
      ]
    },
    {
      "cell_type": "code",
      "execution_count": 17,
      "metadata": {
        "id": "pfN-IKsdyWQt"
      },
      "outputs": [],
      "source": [
        "batch_size = 64\n",
        "\n",
        "train_loader = DataLoader(dataset=train_dataset, batch_size=batch_size, shuffle=True)\n",
        "valid_loader = DataLoader(dataset=valid_dataset, batch_size=batch_size, shuffle=False)"
      ]
    },
    {
      "cell_type": "code",
      "execution_count": 18,
      "metadata": {
        "colab": {
          "base_uri": "https://localhost:8080/"
        },
        "id": "XMPWHOlr0kG2",
        "outputId": "c5b1bfc0-c8b8-439e-ab29-9dc82041ebdf"
      },
      "outputs": [
        {
          "name": "stdout",
          "output_type": "stream",
          "text": [
            "Batch 0:\n",
            "Batch Size: 64\n",
            "Labels (First five):  tensor([0, 1, 7, 6, 3])\n"
          ]
        },
        {
          "data": {
            "image/png": "[encoded data removed]",
            "text/plain": [
              "<Figure size 640x480 with 1 Axes>"
            ]
          },
          "metadata": {},
          "output_type": "display_data"
        },
        {
          "data": {
            "image/png": "[encoded data removed]",
            "text/plain": [
              "<Figure size 640x480 with 1 Axes>"
            ]
          },
          "metadata": {},
          "output_type": "display_data"
        }
      ],
      "source": [
        "# Iterate over batches in the train loader\n",
        "for i, (data, labels) in enumerate(train_loader):\n",
        "    # Print batch size and labels\n",
        "    print(f\"Batch {i}:\")\n",
        "    print(\"Batch Size:\", data.size(0))\n",
        "    print(\"Labels (First five): \", labels[:5])\n",
        "\n",
        "    # Visualize some sample images (optional)\n",
        "    for i in range(min(2, data.size(0))):  # Visualize up to 4 images from each batch\n",
        "        plt.imshow(data[i].permute(1, 2, 0).squeeze().numpy(), cmap='gray')  # Convert tensor to numpy array\n",
        "        plt.title(f\"Label: {labels[i]}\")\n",
        "        plt.show()\n",
        "\n",
        "    break\n",
        "    # Break after the first batch for demonstration"
      ]
    },
    {
      "cell_type": "markdown",
      "metadata": {
        "id": "c2ParDy_1DnV"
      },
      "source": [
        "# Model"
      ]
    },
    {
      "cell_type": "markdown",
      "metadata": {
        "id": "KwNlUm6S1Fwx"
      },
      "source": [
        "### Model Architecture"
      ]
    },
    {
      "cell_type": "markdown",
      "metadata": {
        "id": "j8WK_K15daMG"
      },
      "source": [
        "#### Alexnet (Custom)\n",
        "Input:\n",
        "- 3 x 227 x 227\n",
        "\n",
        "Output:\n",
        "\n",
        "- 1000 (Base) -> 2130 (Adjusted)\n"
      ]
    },
    {
      "cell_type": "code",
      "execution_count": 19,
      "metadata": {
        "id": "HHFGxA_PdtvN"
      },
      "outputs": [],
      "source": [
        "\n",
        "class AlexNet(nn.Module):\n",
        "    def __init__(self, num_classes):\n",
        "        super(AlexNet, self).__init__()\n",
        "        self.layer1 = nn.Sequential(\n",
        "            nn.Conv2d(3, 96, kernel_size=11, stride=4, padding=0),\n",
        "            nn.BatchNorm2d(96),\n",
        "            nn.ReLU(),\n",
        "            nn.MaxPool2d(kernel_size = 3, stride = 2))\n",
        "        self.layer2 = nn.Sequential(\n",
        "            nn.Conv2d(96, 256, kernel_size=5, stride=1, padding=2),\n",
        "            nn.BatchNorm2d(256),\n",
        "            nn.ReLU(),\n",
        "            nn.MaxPool2d(kernel_size = 3, stride = 2))\n",
        "        self.layer3 = nn.Sequential(\n",
        "            nn.Conv2d(256, 384, kernel_size=3, stride=1, padding=1),\n",
        "            nn.BatchNorm2d(384),\n",
        "            nn.ReLU())\n",
        "        self.layer4 = nn.Sequential(\n",
        "            nn.Conv2d(384, 384, kernel_size=3, stride=1, padding=1),\n",
        "            nn.BatchNorm2d(384),\n",
        "            nn.ReLU())\n",
        "        self.layer5 = nn.Sequential(\n",
        "            nn.Conv2d(384, 256, kernel_size=3, stride=1, padding=1),\n",
        "            nn.BatchNorm2d(256),\n",
        "            nn.ReLU(),\n",
        "            nn.MaxPool2d(kernel_size = 3, stride = 2))\n",
        "        self.fc = nn.Sequential(\n",
        "            nn.Dropout(0.5),\n",
        "            nn.Linear(9216, 4096),\n",
        "            nn.ReLU())\n",
        "        self.fc1 = nn.Sequential(\n",
        "            nn.Dropout(0.5),\n",
        "            nn.Linear(4096, 4096),\n",
        "            nn.ReLU())\n",
        "        self.fc2= nn.Sequential(\n",
        "            nn.Linear(4096, num_classes))\n",
        "\n",
        "    def forward(self, x):\n",
        "        out = self.layer1(x)\n",
        "        out = self.layer2(out)\n",
        "        out = self.layer3(out)\n",
        "        out = self.layer4(out)\n",
        "        out = self.layer5(out)\n",
        "        out = out.reshape(out.size(0), -1)\n",
        "        out = self.fc(out)\n",
        "        out = self.fc1(out)\n",
        "        out = self.fc2(out)\n",
        "        return out"
      ]
    },
    {
      "cell_type": "markdown",
      "metadata": {
        "id": "tjGFPAVudfqv"
      },
      "source": [
        "#### Custom Model"
      ]
    },
    {
      "cell_type": "code",
      "execution_count": 20,
      "metadata": {
        "id": "QPZ4kukI1OoG"
      },
      "outputs": [],
      "source": [
        "# MNIST (1, 28, 28)\n",
        "class CustomBuiltModel(nn.Module):\n",
        "    def __init__(self, classes_num=10):\n",
        "        super(CustomBuiltModel, self).__init__()\n",
        "        self.conv1 = nn.Conv2d(1, 10, kernel_size=5)\n",
        "        self.conv2 = nn.Conv2d(10, 20, kernel_size=5)\n",
        "        self.conv2_drop = nn.Dropout2d()\n",
        "        self.fc1 = nn.Linear(320, 50)\n",
        "        self.fc2 = nn.Linear(50, classes_num)\n",
        "\n",
        "    def forward(self, x):\n",
        "        x = F.relu(F.max_pool2d(self.conv1(x), 2))\n",
        "        x = F.relu(F.max_pool2d(self.conv2_drop(self.conv2(x)), 2))\n",
        "        x = x.view(-1, 320)\n",
        "        x = F.relu(self.fc1(x))\n",
        "        x = F.dropout(x, training=self.training)\n",
        "        x = self.fc2(x)\n",
        "        return F.log_softmax(x)\n",
        "\n"
      ]
    },
    {
      "cell_type": "markdown",
      "metadata": {
        "id": "-aXXN7AQdoew"
      },
      "source": [
        "### Initiate Model\n",
        "\n",
        "Note: Change the input data transform fuction accordingly to the chosen model\n"
      ]
    },
    {
      "cell_type": "code",
      "execution_count": 21,
      "metadata": {},
      "outputs": [
        {
          "data": {
            "text/plain": [
              "10"
            ]
          },
          "execution_count": 21,
          "metadata": {},
          "output_type": "execute_result"
        }
      ],
      "source": [
        "len(train_loader.dataset.classes)"
      ]
    },
    {
      "cell_type": "code",
      "execution_count": 22,
      "metadata": {
        "colab": {
          "base_uri": "https://localhost:8080/"
        },
        "id": "WZFK52GkeqJv",
        "outputId": "d59f73e6-c5c5-460f-d309-e44a540048c9"
      },
      "outputs": [
        {
          "data": {
            "text/plain": [
              "10"
            ]
          },
          "execution_count": 22,
          "metadata": {},
          "output_type": "execute_result"
        }
      ],
      "source": [
        "output_classes_num = len(train_dataset.classes)\n",
        "# output_classes_num = 2138\n",
        "output_classes_num"
      ]
    },
    {
      "cell_type": "code",
      "execution_count": null,
      "metadata": {
        "id": "zmTytOuX2A0P"
      },
      "outputs": [],
      "source": [
        "model = models.alexnet(weights='IMAGENET1K_V1')\n",
        "# model = AlexNet(output_classes_num)\n",
        "# model = CustomBuiltModel()\n",
        "model = model.to(device)"
      ]
    },
    {
      "cell_type": "markdown",
      "metadata": {
        "id": "dVuRP8WK2_XD"
      },
      "source": [
        "# Traning\n",
        "\n"
      ]
    },
    {
      "cell_type": "markdown",
      "metadata": {
        "id": "q-oDrRqX2h6f"
      },
      "source": [
        "### Parameter"
      ]
    },
    {
      "cell_type": "code",
      "execution_count": 25,
      "metadata": {
        "id": "MpFQ9KAD2V9m"
      },
      "outputs": [],
      "source": [
        "leaning_rate = 0.01\n",
        "criterion = nn.CrossEntropyLoss()\n",
        "optimizer = optim.Adam(model.parameters(), lr=leaning_rate)\n",
        "# scheduler = torch.optim.lr_scheduler.StepLR(optimizer, step_size=600, gamma=0.5, last_epoch=-1)\n",
        "total_step = len(train_loader)"
      ]
    },
    {
      "cell_type": "markdown",
      "metadata": {
        "id": "ahsoJFvhd_i7"
      },
      "source": [
        "### Traning Loop"
      ]
    },
    {
      "cell_type": "code",
      "execution_count": 26,
      "metadata": {},
      "outputs": [],
      "source": [
        "def train(epochs_num):\n",
        "    model.train()\n",
        "\n",
        "    train_loss = 0.0\n",
        "    train_acc = 0.0\n",
        "\n",
        "    for i, (inputs, labels) in enumerate(train_loader):\n",
        "\n",
        "        inputs = inputs.to(device)\n",
        "        labels = labels.to(device)\n",
        "\n",
        "        optimizer.zero_grad()\n",
        "        outputs = model(inputs)\n",
        "        loss = criterion(outputs, labels)\n",
        "        loss.backward()\n",
        "        optimizer.step()\n",
        "        # scheduler.step()\n",
        "\n",
        "        # # Compute the total loss for the batch and add it to train_loss\n",
        "        # # train_loss += loss.item() * inputs.size(0)\n",
        "        # train_loss += loss.item()\n",
        "\n",
        "\n",
        "        # # Compute the accuracy\n",
        "        # prediction_point, predictions_label = torch.max(outputs.data, 1)\n",
        "        # correct_pred += predictions_label.eq(labels.data.view_as(predictions_label))\n",
        "\n",
        "        # # Convert correct_counts to float and then compute the mean\n",
        "        # acc = torch.mean(correct_pred.type(torch.FloatTensor))\n",
        "\n",
        "        # # Compute total accuracy in the whole batch and add to train_acc\n",
        "        # # train_acc += acc.item() * inputs.size(0)\n",
        "        # train_acc += acc.item() * inputs.size(0)\n",
        "\n",
        "        \n",
        "        if i % 32 == 0:\n",
        "            print('Train Epoch: {} [{}/{} ({:.0f}%)]\\tLoss: {:.6f}'.format(\n",
        "                epochs_num, i * len(inputs), len(train_loader.dataset),\n",
        "                100. * i / len(train_loader), loss.item()))"
      ]
    },
    {
      "cell_type": "code",
      "execution_count": 27,
      "metadata": {},
      "outputs": [],
      "source": [
        "def valid():\n",
        "\n",
        "    model.eval()\n",
        "\n",
        "    valid_loss = 0.0\n",
        "    valid_acc = 0.0\n",
        "    correct_pred = 0\n",
        "    \n",
        "    with torch.no_grad():\n",
        "        for j, (inputs, labels) in enumerate(valid_loader):\n",
        "            inputs = inputs.to(device)\n",
        "            labels = labels.to(device)\n",
        "\n",
        "            outputs = model(inputs)\n",
        "\n",
        "            loss = criterion(outputs, labels)\n",
        "            # valid_loss += loss.item() * inputs.size(0)\n",
        "            valid_loss += loss.item()\n",
        "\n",
        "            # Calculate validation accuracy\n",
        "            prediction_point, predictions_label = torch.max(outputs.data, 1)\n",
        "            correct_pred += predictions_label.eq(labels.data.view_as(predictions_label)).sum()\n",
        "\n",
        "    valid_loss /= len(valid_loader.dataset)\n",
        "    print('\\nTest set: Avg. loss: {:.4f}, Accuracy: {}/{} ({:.0f}%)\\n'.format(\n",
        "        valid_loss, correct_pred, len(valid_loader.dataset),\n",
        "        100. * correct_pred / len(valid_loader.dataset)))  \n",
        "        \n",
        "\n",
        "            "
      ]
    },
    {
      "cell_type": "code",
      "execution_count": 28,
      "metadata": {
        "colab": {
          "base_uri": "https://localhost:8080/",
          "height": 408
        },
        "id": "j-vIPnAVySKk",
        "outputId": "44010a9c-a8e5-4f68-97d3-23d390afa1a6"
      },
      "outputs": [
        {
          "name": "stderr",
          "output_type": "stream",
          "text": [
            "C:\\Users\\OC\\AppData\\Local\\Temp\\ipykernel_10208\\195287542.py:18: UserWarning: Implicit dimension choice for log_softmax has been deprecated. Change the call to include dim=X as an argument.\n",
            "  return F.log_softmax(x)\n"
          ]
        },
        {
          "name": "stdout",
          "output_type": "stream",
          "text": [
            "\n",
            "Test set: Avg. loss: 0.0362, Accuracy: 533/10000 (5%)\n",
            "\n",
            "Epoch: 1/1\n",
            "Train Epoch: 1 [0/60000 (0%)]\tLoss: 2.312339\n",
            "Train Epoch: 1 [2048/60000 (3%)]\tLoss: 1.436141\n",
            "Train Epoch: 1 [4096/60000 (7%)]\tLoss: 0.999457\n",
            "Train Epoch: 1 [6144/60000 (10%)]\tLoss: 0.532398\n",
            "Train Epoch: 1 [8192/60000 (14%)]\tLoss: 0.431787\n",
            "Train Epoch: 1 [10240/60000 (17%)]\tLoss: 0.841577\n",
            "Train Epoch: 1 [12288/60000 (20%)]\tLoss: 0.569266\n",
            "Train Epoch: 1 [14336/60000 (24%)]\tLoss: 0.432118\n",
            "Train Epoch: 1 [16384/60000 (27%)]\tLoss: 1.085364\n",
            "Train Epoch: 1 [18432/60000 (31%)]\tLoss: 0.541430\n",
            "Train Epoch: 1 [20480/60000 (34%)]\tLoss: 0.294531\n",
            "Train Epoch: 1 [22528/60000 (38%)]\tLoss: 0.497265\n",
            "Train Epoch: 1 [24576/60000 (41%)]\tLoss: 0.386612\n",
            "Train Epoch: 1 [26624/60000 (44%)]\tLoss: 0.415877\n",
            "Train Epoch: 1 [28672/60000 (48%)]\tLoss: 0.580542\n",
            "Train Epoch: 1 [30720/60000 (51%)]\tLoss: 0.852092\n",
            "Train Epoch: 1 [32768/60000 (55%)]\tLoss: 0.329989\n",
            "Train Epoch: 1 [34816/60000 (58%)]\tLoss: 0.409272\n",
            "Train Epoch: 1 [36864/60000 (61%)]\tLoss: 0.208720\n",
            "Train Epoch: 1 [38912/60000 (65%)]\tLoss: 0.327323\n",
            "Train Epoch: 1 [40960/60000 (68%)]\tLoss: 0.239098\n",
            "Train Epoch: 1 [43008/60000 (72%)]\tLoss: 0.190727\n",
            "Train Epoch: 1 [45056/60000 (75%)]\tLoss: 0.366312\n",
            "Train Epoch: 1 [47104/60000 (78%)]\tLoss: 0.631478\n",
            "Train Epoch: 1 [49152/60000 (82%)]\tLoss: 0.345195\n",
            "Train Epoch: 1 [51200/60000 (85%)]\tLoss: 0.526692\n",
            "Train Epoch: 1 [53248/60000 (89%)]\tLoss: 0.456762\n",
            "Train Epoch: 1 [55296/60000 (92%)]\tLoss: 0.248539\n",
            "Train Epoch: 1 [57344/60000 (96%)]\tLoss: 0.077807\n",
            "Train Epoch: 1 [59392/60000 (99%)]\tLoss: 0.438105\n",
            "\n",
            "Test set: Avg. loss: 0.0017, Accuracy: 9660/10000 (97%)\n",
            "\n"
          ]
        }
      ],
      "source": [
        "epochs = 1\n",
        "# history = []\n",
        "valid()\n",
        "for epoch in range(epochs):\n",
        "    epoch_start = time.time()\n",
        "    print(\"Epoch: {}/{}\".format(epoch+1, epochs))\n",
        "    train(epochs)\n",
        "    valid()"
      ]
    }
  ],
  "metadata": {
    "accelerator": "GPU",
    "colab": {
      "collapsed_sections": [
        "tjGFPAVudfqv"
      ],
      "gpuType": "T4",
      "provenance": []
    },
    "kernelspec": {
      "display_name": "Python 3",
      "name": "python3"
    },
    "language_info": {
      "codemirror_mode": {
        "name": "ipython",
        "version": 3
      },
      "file_extension": ".py",
      "mimetype": "text/x-python",
      "name": "python",
      "nbconvert_exporter": "python",
      "pygments_lexer": "ipython3",
      "version": "3.12.2"
    }
  },
  "nbformat": 4,
  "nbformat_minor": 0
}
